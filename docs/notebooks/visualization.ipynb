{
 "cells": [
  {
   "cell_type": "code",
   "execution_count": null,
   "metadata": {},
   "outputs": [],
   "source": [
    "import pandas as pd\n",
    "import matplotlib.pyplot as plt\n",
    "import numpy as np\n",
    "import sys\n",
    "import cv2\n",
    "\n",
    "sys.path.append(\"../..\")"
   ]
  },
  {
   "cell_type": "code",
   "execution_count": null,
   "metadata": {},
   "outputs": [],
   "source": [
    "GOOD_SQUAD_VIDEO_PATH = \"../cfe_videos/squat/lstm/not_low_enough_fixed.mp4\"\n",
    "BAD_SQUAD_VIDEO_PATH = \"../cfe_videos/squat/lstm/not_low_enough_bad.mp4\"\n",
    "\n",
    "GOOD_PLANK_VIDEO_PATH = \"../cfe_videos/plank/lstm/arched_back_fixed.mp4\"\n",
    "BAD_PLANK_VIDEO_PATH = \"../cfe_videos/plank/lstm/arched_back_bad.mp4\"\n",
    "\n",
    "GOOD_LUNGES_VIDEO_PATH = \"../cfe_videos/lunges/lstm/knee_passes_toe_fixed.mp4\"\n",
    "BAD_LUNGES_VIDEO_PATH = \"../cfe_videos/lunges/lstm/knee_passes_toe_bad.mp4\""
   ]
  },
  {
   "cell_type": "code",
   "execution_count": null,
   "metadata": {},
   "outputs": [],
   "source": [
    "def get_collage_from_frames(video_path: str, out_n: int) -> np.ndarray:\n",
    "    cap = cv2.VideoCapture(video_path)\n",
    "    video_len = int(cap.get(cv2.CAP_PROP_FRAME_COUNT))\n",
    "    frames_ids = np.linspace(0, video_len - 1, out_n, dtype=int)\n",
    "    frames = []\n",
    "    while True:\n",
    "        ret, frame = cap.read()\n",
    "        if not ret:\n",
    "            break\n",
    "        frames.append(frame)\n",
    "\n",
    "    return np.array(frames)[frames_ids]"
   ]
  },
  {
   "cell_type": "code",
   "execution_count": null,
   "metadata": {},
   "outputs": [],
   "source": [
    "bad_frames = get_collage_from_frames(BAD_SQUAD_VIDEO_PATH, 10)\n",
    "good_frames = get_collage_from_frames(GOOD_SQUAD_VIDEO_PATH, 10)\n",
    "\n",
    "bad_frames = bad_frames[:, 150:320, 250:400, :]\n",
    "good_frames = good_frames[:, 150:320, 250:400, :]\n",
    "\n",
    "bad_frames_collage = np.concatenate(bad_frames, axis=1)\n",
    "good_frames_collage = np.concatenate(good_frames, axis=1)\n",
    "\n",
    "full_collage = np.concatenate([bad_frames_collage, good_frames_collage], axis=0)\n",
    "\n",
    "fig, ax = plt.subplots(figsize=(16, 20))\n",
    "\n",
    "ax.imshow(full_collage[..., ::-1])\n",
    "ax.set_xticks([])\n",
    "ax.set_yticks([])"
   ]
  },
  {
   "cell_type": "code",
   "execution_count": null,
   "metadata": {},
   "outputs": [],
   "source": [
    "bad_frames = get_collage_from_frames(BAD_PLANK_VIDEO_PATH, 10)\n",
    "good_frames = get_collage_from_frames(GOOD_PLANK_VIDEO_PATH, 10)\n",
    "\n",
    "bad_frames = bad_frames[:, 150:320, 250:425, :]\n",
    "good_frames = good_frames[:, 150:320, 250:425, :]\n",
    "\n",
    "bad_frames_collage = np.concatenate(bad_frames, axis=1)\n",
    "good_frames_collage = np.concatenate(good_frames, axis=1)\n",
    "\n",
    "full_collage = np.concatenate([bad_frames_collage, good_frames_collage], axis=0)\n",
    "\n",
    "fig, ax = plt.subplots(figsize=(16, 20))\n",
    "\n",
    "ax.imshow(full_collage[..., ::-1])\n",
    "ax.set_xticks([])\n",
    "ax.set_yticks([])"
   ]
  },
  {
   "cell_type": "code",
   "execution_count": null,
   "metadata": {},
   "outputs": [],
   "source": [
    "bad_frames = get_collage_from_frames(BAD_LUNGES_VIDEO_PATH, 10)\n",
    "good_frames = get_collage_from_frames(GOOD_LUNGES_VIDEO_PATH, 10)\n",
    "\n",
    "bad_frames = bad_frames[:, 150:320, 250:425, :]\n",
    "good_frames = good_frames[:, 150:320, 250:425, :]\n",
    "\n",
    "bad_frames_collage = np.concatenate(bad_frames, axis=1)\n",
    "good_frames_collage = np.concatenate(good_frames, axis=1)\n",
    "\n",
    "full_collage = np.concatenate([bad_frames_collage, good_frames_collage], axis=0)\n",
    "\n",
    "fig, ax = plt.subplots(figsize=(16, 20))\n",
    "\n",
    "ax.imshow(full_collage[..., ::-1])\n",
    "ax.set_xticks([])\n",
    "ax.set_yticks([])"
   ]
  }
 ],
 "metadata": {
  "kernelspec": {
   "display_name": ".env",
   "language": "python",
   "name": "python3"
  },
  "language_info": {
   "codemirror_mode": {
    "name": "ipython",
    "version": 3
   },
   "file_extension": ".py",
   "mimetype": "text/x-python",
   "name": "python",
   "nbconvert_exporter": "python",
   "pygments_lexer": "ipython3",
   "version": "3.11.3"
  }
 },
 "nbformat": 4,
 "nbformat_minor": 2
}
