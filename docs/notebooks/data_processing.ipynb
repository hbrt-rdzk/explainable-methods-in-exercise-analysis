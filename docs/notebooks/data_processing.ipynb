{
 "cells": [
  {
   "cell_type": "code",
   "execution_count": null,
   "metadata": {},
   "outputs": [],
   "source": [
    "import pandas as pd\n",
    "import numpy as np\n",
    "import matplotlib.pyplot as plt"
   ]
  },
  {
   "cell_type": "markdown",
   "metadata": {},
   "source": [
    "### EC3D dataset\n",
    "For the analysis EC3D dataset was used. Here is it's overview:\n",
    "\n",
    "| Exercise                   | Instruction label | Sub1 | Sub2 | Sub3 | Sub4 | Total |\n",
    "|-----------------------------------|-------------------|------|------|------|------|-------|\n",
    "| Squats                       | Correct           | 10   | 10   | 11   | 10   | 41 |\n",
    "|                              | Feet too wide     | 5    | 8    | 5    | 5    | 23    |\n",
    "|                              | Knees inward      | 6    | 7    | 5    | 5    | 23    |\n",
    "|                              | Not low enough    | 5    | 7    | 5    | 4    | 21    |\n",
    "|                              | Front bent        | 5    | 6    | 6    | 7    | 24    |\n",
    "| Lunges                       | Correct              | 12   | 11   | 11   | 12   | 46    |\n",
    "|                              | Not low enough    | 10   | 10   | 10   | 10   | 40    |\n",
    "|                              | Knee passes toe   | 10   | 10   | 11   | 10   | 41    |\n",
    "| Planks                       | Correct               | 7    | 8    | 11   | 7    | 33    |\n",
    "|                              | Arched back       | 5    | 5    | 11   | 9    | 30    |\n",
    "|                              | Hunch back        | 10   | 10   | 11   | 9    | 40    |\n"
   ]
  },
  {
   "cell_type": "code",
   "execution_count": null,
   "metadata": {},
   "outputs": [],
   "source": [
    "LABELS_COLUMNS = [\"exercise\", \"subject\", \"label\", \"rep\", \"frame\"]"
   ]
  },
  {
   "cell_type": "code",
   "execution_count": null,
   "metadata": {},
   "outputs": [],
   "source": [
    "dataset = pd.read_pickle(\"../../data/data_3D.pickle\")\n",
    "\n",
    "poses = dataset[\"poses\"]\n",
    "\n",
    "labels_df = pd.DataFrame(dataset[\"labels\"], columns=LABELS_COLUMNS)\n",
    "labels_df[\"frame\"] = np.arange(len(labels_df))\n",
    "labels_df[LABELS_COLUMNS[2:]] = labels_df[LABELS_COLUMNS[2:]].astype(\"int\")"
   ]
  },
  {
   "cell_type": "code",
   "execution_count": null,
   "metadata": {},
   "outputs": [],
   "source": [
    "x = labels_df[labels_df[\"exercise\"] == \"Plank\"]\n",
    "for _, person in x[x[\"label\"] == 8].groupby(\"subject\"):\n",
    "    print(person[\"rep\"].unique())"
   ]
  },
  {
   "cell_type": "markdown",
   "metadata": {},
   "source": [
    "### Dataset processing\n",
    "\n",
    "To prepare data for deep models we need to keep only label and positions in time for each exercise.\n"
   ]
  },
  {
   "cell_type": "code",
   "execution_count": null,
   "metadata": {},
   "outputs": [],
   "source": [
    "def get_rep_frames_from_df(df: pd.DataFrame) -> pd.Grouper:\n",
    "    groups = df.groupby(\"subject\")\n",
    "\n",
    "    return [\n",
    "        rep[\"frame\"].values\n",
    "        for _, subject_group in groups\n",
    "        for _, rep in subject_group.groupby(\"rep\")\n",
    "    ]\n",
    "\n",
    "\n",
    "def get_df_from_frames(\n",
    "    df: pd.DataFrame, exercises: np.ndarray, label: str\n",
    ") -> pd.DataFrame:\n",
    "    frames = get_rep_frames_from_df(df)\n",
    "    final_reps_df = pd.DataFrame()\n",
    "    for rep_num, frames_rep in enumerate(frames, start=1):\n",
    "        rep_3d_joints = exercises[frames_rep]\n",
    "\n",
    "        rep_3d_joints_x = rep_3d_joints[:, 0, :].reshape(-1)\n",
    "        rep_3d_joints_y = rep_3d_joints[:, 1, :].reshape(-1)\n",
    "        rep_3d_joints_z = rep_3d_joints[:, 2, :].reshape(-1)\n",
    "        frames_num = len(rep_3d_joints_x) // 25\n",
    "        final_rep = np.array(\n",
    "            [\n",
    "                np.full_like(rep_3d_joints_x, rep_num, dtype=int),\n",
    "                rep_3d_joints_x,\n",
    "                rep_3d_joints_y,\n",
    "                rep_3d_joints_z,\n",
    "                np.repeat(np.arange(frames_num, dtype=int), 25),\n",
    "                np.full_like(rep_3d_joints_x, label, dtype=\"<U15\"),\n",
    "            ]\n",
    "        ).T\n",
    "        final_reps_df = pd.concat(\n",
    "            [\n",
    "                final_reps_df,\n",
    "                pd.DataFrame(\n",
    "                    final_rep, columns=[\"rep\", \"x\", \"y\", \"z\", \"frame\", \"label\"]\n",
    "                ),\n",
    "            ],\n",
    "            axis=0,\n",
    "        )\n",
    "\n",
    "    final_reps_df[\"rep\"] = final_reps_df[\"rep\"].astype(\"int\")\n",
    "    final_reps_df[\"frame\"] = final_reps_df[\"frame\"].astype(\"int\")\n",
    "\n",
    "    return final_reps_df"
   ]
  },
  {
   "cell_type": "markdown",
   "metadata": {},
   "source": [
    "### Squat"
   ]
  },
  {
   "cell_type": "code",
   "execution_count": null,
   "metadata": {},
   "outputs": [],
   "source": [
    "LABELS_COLUMNS = [\"exercise\", \"subject\", \"label\", \"rep\", \"frame\"]\n",
    "\n",
    "SQUAT_LABELS = {\n",
    "    1: \"correct\",\n",
    "    2: \"feet_too_wide\",\n",
    "    3: \"knees_inwards\",\n",
    "    4: \"not_low_enough\",\n",
    "    5: \"front_bend\",\n",
    "}\n",
    "LUNGES_LABELS = {\n",
    "    1: \"correct\",\n",
    "    4: \"not_low_enough\",\n",
    "    6: \"knee_passes_toe\",\n",
    "}\n",
    "PLANK_LABELS = {\n",
    "    1: \"correct\",\n",
    "    7: \"arched_back\",\n",
    "    8: \"hunched_back\",\n",
    "}"
   ]
  },
  {
   "cell_type": "code",
   "execution_count": null,
   "metadata": {},
   "outputs": [],
   "source": [
    "squat_df = labels_df[labels_df[\"exercise\"] == \"SQUAT\"]\n",
    "lunges_df = labels_df[labels_df[\"exercise\"] == \"Lunges\"]\n",
    "planks_df = labels_df[labels_df[\"exercise\"] == \"Plank\"]"
   ]
  },
  {
   "cell_type": "code",
   "execution_count": null,
   "metadata": {},
   "outputs": [],
   "source": [
    "squat_df"
   ]
  },
  {
   "cell_type": "code",
   "execution_count": null,
   "metadata": {},
   "outputs": [],
   "source": [
    "import os\n",
    "\n",
    "output_dir = \"../../data\"\n",
    "\n",
    "for df, labels in [\n",
    "    (squat_df, SQUAT_LABELS),\n",
    "    (lunges_df, LUNGES_LABELS),\n",
    "    (planks_df, PLANK_LABELS),\n",
    "]:\n",
    "    exercise_dfs = []\n",
    "    for label, label_name in labels.items():\n",
    "        exercise_dfs.append(\n",
    "            get_df_from_frames(df[df[\"label\"] == label], poses, label_name)\n",
    "        )\n",
    "\n",
    "    pd.concat(exercise_dfs).to_csv(\n",
    "        os.path.join(output_dir, f\"{df['exercise'].values[0].lower()}.csv\"),\n",
    "        index=False,\n",
    "    )"
   ]
  },
  {
   "cell_type": "markdown",
   "metadata": {},
   "source": [
    "### Visualization "
   ]
  },
  {
   "cell_type": "code",
   "execution_count": null,
   "metadata": {},
   "outputs": [],
   "source": [
    "openpose_connections = [\n",
    "    (0, 1),\n",
    "    (1, 2),\n",
    "    (1, 5),\n",
    "    (1, 8),\n",
    "    (2, 3),\n",
    "    (3, 4),\n",
    "    (5, 6),\n",
    "    (6, 7),\n",
    "    (8, 9),\n",
    "    (9, 10),\n",
    "    (10, 11),\n",
    "    (8, 12),\n",
    "    (12, 13),\n",
    "    (13, 14),\n",
    "    (0, 15),\n",
    "    (0, 16),\n",
    "    (15, 17),\n",
    "    (16, 18),\n",
    "    (17, 18),\n",
    "    (11, 24),\n",
    "    (11, 22),\n",
    "    (22, 23),\n",
    "    (14, 21),\n",
    "    (14, 19),\n",
    "    (19, 20),\n",
    "]\n",
    "correct_squat_df = pd.read_csv(\"../../data/joints/squat.csv\")\n",
    "correct_squat_1_rep_df = correct_squat_df[\n",
    "    (correct_squat_df[\"rep\"] == 20) & (correct_squat_df[\"label\"] == \"correct\")\n",
    "]"
   ]
  },
  {
   "cell_type": "code",
   "execution_count": null,
   "metadata": {},
   "outputs": [],
   "source": [
    "planks_df = pd.read_csv(\"../../data/train/plank/dct.csv\")"
   ]
  },
  {
   "cell_type": "code",
   "execution_count": null,
   "metadata": {},
   "outputs": [],
   "source": [
    "for _, rep in planks_df.groupby([\"rep\", \"label\"]):\n",
    "    print(_, len(rep) / 25)"
   ]
  },
  {
   "cell_type": "code",
   "execution_count": null,
   "metadata": {},
   "outputs": [],
   "source": [
    "correct_squat_1_rep_df"
   ]
  },
  {
   "cell_type": "code",
   "execution_count": null,
   "metadata": {},
   "outputs": [],
   "source": [
    "rep_joint = pd.DataFrame(\n",
    "    [\n",
    "        joints.reset_index().loc[1]\n",
    "        for _, joints in correct_squat_1_rep_df.groupby(\"frame\")\n",
    "    ]\n",
    ")"
   ]
  },
  {
   "cell_type": "code",
   "execution_count": null,
   "metadata": {},
   "outputs": [],
   "source": [
    "joint_tensor = torch.tensor(rep_joint[[\"x\", \"y\", \"z\"]].values)\n",
    "dct_2d(joint_tensor).shape"
   ]
  },
  {
   "cell_type": "code",
   "execution_count": null,
   "metadata": {},
   "outputs": [],
   "source": [
    "from scipy.fft import dct, idct\n",
    "\n",
    "dct(rep_joint[\"x\"].values)"
   ]
  },
  {
   "cell_type": "code",
   "execution_count": null,
   "metadata": {},
   "outputs": [],
   "source": [
    "input = rep_joint[[\"x\", \"y\", \"z\"]].values"
   ]
  },
  {
   "cell_type": "code",
   "execution_count": null,
   "metadata": {},
   "outputs": [],
   "source": [
    "input.shape"
   ]
  },
  {
   "cell_type": "code",
   "execution_count": null,
   "metadata": {},
   "outputs": [],
   "source": [
    "from scipy.fftpack import dct, idct\n",
    "\n",
    "\n",
    "def get_dct_features(input) -> np.ndarray:\n",
    "    compressed_dct = dct(input, norm=\"ortho\")[:25]\n",
    "    x_dct = np.zeros(91, dtype=float)\n",
    "\n",
    "    x_dct[:25] = compressed_dct\n",
    "    x_idct = idct(x_dct, norm=\"ortho\")\n",
    "    return x_idct\n",
    "\n",
    "\n",
    "out = get_dct_features(input[:, 0])"
   ]
  },
  {
   "cell_type": "code",
   "execution_count": null,
   "metadata": {},
   "outputs": [],
   "source": [
    "plt.plot(input[:, 0], label=\"x\")"
   ]
  },
  {
   "cell_type": "code",
   "execution_count": null,
   "metadata": {},
   "outputs": [],
   "source": [
    "plt.plot(out, label=\"x\")"
   ]
  },
  {
   "cell_type": "code",
   "execution_count": null,
   "metadata": {},
   "outputs": [],
   "source": [
    "rep_joint[[\"x\", \"y\", \"z\"]].values"
   ]
  },
  {
   "cell_type": "code",
   "execution_count": null,
   "metadata": {},
   "outputs": [],
   "source": [
    "print(out)"
   ]
  },
  {
   "cell_type": "code",
   "execution_count": null,
   "metadata": {},
   "outputs": [],
   "source": [
    "X_LIM = (-1, 1)\n",
    "Y_LIM = (-1, 1)\n",
    "Z_LIM = (-1, 1)\n",
    "\n",
    "ELEV = 0\n",
    "AZIM = 0"
   ]
  },
  {
   "cell_type": "code",
   "execution_count": null,
   "metadata": {},
   "outputs": [],
   "source": [
    "import matplotlib.animation as animation\n",
    "from IPython.display import HTML\n",
    "\n",
    "\n",
    "def get_3D_animation(data):\n",
    "    fig = plt.figure()\n",
    "    ax = fig.add_subplot(111, projection=\"3d\")\n",
    "\n",
    "    def update(i):\n",
    "        ax.clear()\n",
    "        ax.set_xlim3d(*X_LIM)\n",
    "        ax.set_ylim3d(*Y_LIM)\n",
    "        ax.set_zlim3d(*Z_LIM)\n",
    "        ax.view_init(elev=ELEV, azim=AZIM)\n",
    "\n",
    "        frame_data = data[data[\"frame\"] == i]\n",
    "        ax.scatter3D(frame_data[\"x\"], frame_data[\"y\"], frame_data[\"z\"])\n",
    "        frame_data = frame_data.reset_index()\n",
    "\n",
    "        for start, stop in openpose_connections:\n",
    "            ax.plot(\n",
    "                xs=[frame_data.loc[start][\"x\"], frame_data.loc[stop][\"x\"]],\n",
    "                ys=[frame_data.loc[start][\"y\"], frame_data.loc[stop][\"y\"]],\n",
    "                zs=[frame_data.loc[start][\"z\"], frame_data.loc[stop][\"z\"]],\n",
    "            )\n",
    "\n",
    "    return animation.FuncAnimation(\n",
    "        fig, update, frames=pd.unique(data[\"frame\"]), interval=120\n",
    "    )\n",
    "\n",
    "\n",
    "ani = get_3D_animation(correct_squat_1_rep_df)\n",
    "HTML(ani.to_jshtml())"
   ]
  }
 ],
 "metadata": {
  "kernelspec": {
   "display_name": ".env",
   "language": "python",
   "name": "python3"
  },
  "language_info": {
   "codemirror_mode": {
    "name": "ipython",
    "version": 3
   },
   "file_extension": ".py",
   "mimetype": "text/x-python",
   "name": "python",
   "nbconvert_exporter": "python",
   "pygments_lexer": "ipython3",
   "version": "3.11.3"
  }
 },
 "nbformat": 4,
 "nbformat_minor": 2
}
