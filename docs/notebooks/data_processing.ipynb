{
 "cells": [
  {
   "cell_type": "code",
   "execution_count": 1,
   "metadata": {},
   "outputs": [],
   "source": [
    "import pandas as pd\n",
    "import numpy as np\n",
    "import matplotlib.pyplot as plt"
   ]
  },
  {
   "cell_type": "markdown",
   "metadata": {},
   "source": [
    "### EC3D dataset\n",
    "For the analysis EC3D dataset was used. Here is it's overview:\n",
    "\n",
    "| Exercise                   | Instruction label | Sub1 | Sub2 | Sub3 | Sub4 | Total |\n",
    "|-----------------------------------|-------------------|------|------|------|------|-------|\n",
    "| Squats                       | Correct           | 10   | 10   | 11   | 10   | 41 |\n",
    "|                              | Feet too wide     | 5    | 8    | 5    | 5    | 23    |\n",
    "|                              | Knees inward      | 6    | 7    | 5    | 5    | 23    |\n",
    "|                              | Not low enough    | 5    | 7    | 5    | 4    | 21    |\n",
    "|                              | Front bent        | 5    | 6    | 6    | 7    | 24    |\n",
    "| Lunges                       | Correct              | 12   | 11   | 11   | 12   | 46    |\n",
    "|                              | Not low enough    | 10   | 10   | 10   | 10   | 40    |\n",
    "|                              | Knee passes toe   | 10   | 10   | 11   | 10   | 41    |\n",
    "| Planks                       | Correct               | 7    | 8    | 11   | 7    | 33    |\n",
    "|                              | Arched back       | 5    | 5    | 11   | 9    | 30    |\n",
    "|                              | Hunch back        | 10   | 10   | 11   | 9    | 40    |\n"
   ]
  },
  {
   "cell_type": "code",
   "execution_count": 2,
   "metadata": {},
   "outputs": [],
   "source": [
    "LABELS_COLUMNS = [\"exercise\", \"subject\", \"label\", \"rep\", \"frame\"]"
   ]
  },
  {
   "cell_type": "code",
   "execution_count": 3,
   "metadata": {},
   "outputs": [],
   "source": [
    "dataset = pd.read_pickle(\"../../data/data_3D.pickle\")\n",
    "\n",
    "poses = dataset[\"poses\"]\n",
    "\n",
    "labels_df = pd.DataFrame(dataset[\"labels\"], columns=LABELS_COLUMNS)\n",
    "labels_df[\"frame\"] = np.arange(len(labels_df))\n",
    "labels_df[LABELS_COLUMNS[2:]] = labels_df[LABELS_COLUMNS[2:]].astype(\"int\")"
   ]
  },
  {
   "cell_type": "code",
   "execution_count": 4,
   "metadata": {},
   "outputs": [
    {
     "name": "stdout",
     "output_type": "stream",
     "text": [
      "[ 1  2  3  4  5  6  7  8  9 10]\n",
      "[ 1  2  3  4  5  6  7  8  9 10]\n",
      "[ 1  2  3  4  5  6  7  8  9 10 11]\n",
      "[ 2  3  4  5  6  7  8  9 10]\n"
     ]
    }
   ],
   "source": [
    "x = labels_df[labels_df[\"exercise\"] == \"Plank\"]\n",
    "for _, person in x[x[\"label\"] == 8].groupby(\"subject\"):\n",
    "    print(person[\"rep\"].unique())"
   ]
  },
  {
   "cell_type": "markdown",
   "metadata": {},
   "source": [
    "### Dataset processing\n",
    "\n",
    "To prepare data for deep models we need to keep only label and positions in time for each exercise.\n"
   ]
  },
  {
   "cell_type": "code",
   "execution_count": 5,
   "metadata": {},
   "outputs": [],
   "source": [
    "def get_rep_frames_from_df(df: pd.DataFrame) -> pd.Grouper:\n",
    "    groups = df.groupby(\"subject\")\n",
    "\n",
    "    return [\n",
    "        rep[\"frame\"].values\n",
    "        for _, subject_group in groups\n",
    "        for _, rep in subject_group.groupby(\"rep\")\n",
    "    ]\n",
    "\n",
    "\n",
    "def get_df_from_frames(\n",
    "    df: pd.DataFrame, exercises: np.ndarray, label: str\n",
    ") -> pd.DataFrame:\n",
    "    frames = get_rep_frames_from_df(df)\n",
    "    final_reps_df = pd.DataFrame()\n",
    "    for rep_num, frames_rep in enumerate(frames, start=1):\n",
    "        rep_3d_joints = exercises[frames_rep]\n",
    "\n",
    "        rep_3d_joints_x = rep_3d_joints[:, 0, :].reshape(-1)\n",
    "        rep_3d_joints_y = rep_3d_joints[:, 1, :].reshape(-1)\n",
    "        rep_3d_joints_z = rep_3d_joints[:, 2, :].reshape(-1)\n",
    "        frames_num = len(rep_3d_joints_x) // 25\n",
    "        final_rep = np.array(\n",
    "            [\n",
    "                np.full_like(rep_3d_joints_x, rep_num, dtype=int),\n",
    "                rep_3d_joints_x,\n",
    "                rep_3d_joints_y,\n",
    "                rep_3d_joints_z,\n",
    "                np.repeat(np.arange(frames_num, dtype=int), 25),\n",
    "                np.full_like(rep_3d_joints_x, label, dtype=\"<U15\"),\n",
    "            ]\n",
    "        ).T\n",
    "        final_reps_df = pd.concat(\n",
    "            [\n",
    "                final_reps_df,\n",
    "                pd.DataFrame(\n",
    "                    final_rep, columns=[\"rep\", \"x\", \"y\", \"z\", \"frame\", \"label\"]\n",
    "                ),\n",
    "            ],\n",
    "            axis=0,\n",
    "        )\n",
    "\n",
    "    final_reps_df[\"rep\"] = final_reps_df[\"rep\"].astype(\"int\")\n",
    "    final_reps_df[\"frame\"] = final_reps_df[\"frame\"].astype(\"int\")\n",
    "\n",
    "    return final_reps_df"
   ]
  },
  {
   "cell_type": "markdown",
   "metadata": {},
   "source": [
    "### Squat"
   ]
  },
  {
   "cell_type": "code",
   "execution_count": 6,
   "metadata": {},
   "outputs": [],
   "source": [
    "LABELS_COLUMNS = [\"exercise\", \"subject\", \"label\", \"rep\", \"frame\"]\n",
    "\n",
    "SQUAT_LABELS = {\n",
    "    1: \"correct\",\n",
    "    2: \"feet_too_wide\",\n",
    "    3: \"knees_inwards\",\n",
    "    4: \"not_low_enough\",\n",
    "    5: \"front_bend\",\n",
    "}\n",
    "LUNGES_LABELS = {\n",
    "    1: \"correct\",\n",
    "    4: \"not_low_enough\",\n",
    "    6: \"knee_passes_toe\",\n",
    "}\n",
    "PLANK_LABELS = {\n",
    "    1: \"correct\",\n",
    "    7: \"arched_back\",\n",
    "    8: \"hunched_back\",\n",
    "}"
   ]
  },
  {
   "cell_type": "code",
   "execution_count": 7,
   "metadata": {},
   "outputs": [],
   "source": [
    "squat_df = labels_df[labels_df[\"exercise\"] == \"SQUAT\"]\n",
    "lunges_df = labels_df[labels_df[\"exercise\"] == \"Lunges\"]\n",
    "planks_df = labels_df[labels_df[\"exercise\"] == \"Plank\"]"
   ]
  },
  {
   "cell_type": "code",
   "execution_count": 8,
   "metadata": {},
   "outputs": [
    {
     "data": {
      "text/html": [
       "<div>\n",
       "<style scoped>\n",
       "    .dataframe tbody tr th:only-of-type {\n",
       "        vertical-align: middle;\n",
       "    }\n",
       "\n",
       "    .dataframe tbody tr th {\n",
       "        vertical-align: top;\n",
       "    }\n",
       "\n",
       "    .dataframe thead th {\n",
       "        text-align: right;\n",
       "    }\n",
       "</style>\n",
       "<table border=\"1\" class=\"dataframe\">\n",
       "  <thead>\n",
       "    <tr style=\"text-align: right;\">\n",
       "      <th></th>\n",
       "      <th>exercise</th>\n",
       "      <th>subject</th>\n",
       "      <th>label</th>\n",
       "      <th>rep</th>\n",
       "      <th>frame</th>\n",
       "    </tr>\n",
       "  </thead>\n",
       "  <tbody>\n",
       "    <tr>\n",
       "      <th>0</th>\n",
       "      <td>SQUAT</td>\n",
       "      <td>Hugues</td>\n",
       "      <td>1</td>\n",
       "      <td>1</td>\n",
       "      <td>0</td>\n",
       "    </tr>\n",
       "    <tr>\n",
       "      <th>1</th>\n",
       "      <td>SQUAT</td>\n",
       "      <td>Hugues</td>\n",
       "      <td>1</td>\n",
       "      <td>1</td>\n",
       "      <td>1</td>\n",
       "    </tr>\n",
       "    <tr>\n",
       "      <th>2</th>\n",
       "      <td>SQUAT</td>\n",
       "      <td>Hugues</td>\n",
       "      <td>1</td>\n",
       "      <td>1</td>\n",
       "      <td>2</td>\n",
       "    </tr>\n",
       "    <tr>\n",
       "      <th>3</th>\n",
       "      <td>SQUAT</td>\n",
       "      <td>Hugues</td>\n",
       "      <td>1</td>\n",
       "      <td>1</td>\n",
       "      <td>3</td>\n",
       "    </tr>\n",
       "    <tr>\n",
       "      <th>4</th>\n",
       "      <td>SQUAT</td>\n",
       "      <td>Hugues</td>\n",
       "      <td>1</td>\n",
       "      <td>1</td>\n",
       "      <td>4</td>\n",
       "    </tr>\n",
       "    <tr>\n",
       "      <th>...</th>\n",
       "      <td>...</td>\n",
       "      <td>...</td>\n",
       "      <td>...</td>\n",
       "      <td>...</td>\n",
       "      <td>...</td>\n",
       "    </tr>\n",
       "    <tr>\n",
       "      <th>11104</th>\n",
       "      <td>SQUAT</td>\n",
       "      <td>Isinsu</td>\n",
       "      <td>5</td>\n",
       "      <td>6</td>\n",
       "      <td>11104</td>\n",
       "    </tr>\n",
       "    <tr>\n",
       "      <th>11105</th>\n",
       "      <td>SQUAT</td>\n",
       "      <td>Isinsu</td>\n",
       "      <td>5</td>\n",
       "      <td>6</td>\n",
       "      <td>11105</td>\n",
       "    </tr>\n",
       "    <tr>\n",
       "      <th>11106</th>\n",
       "      <td>SQUAT</td>\n",
       "      <td>Isinsu</td>\n",
       "      <td>5</td>\n",
       "      <td>6</td>\n",
       "      <td>11106</td>\n",
       "    </tr>\n",
       "    <tr>\n",
       "      <th>11107</th>\n",
       "      <td>SQUAT</td>\n",
       "      <td>Isinsu</td>\n",
       "      <td>5</td>\n",
       "      <td>6</td>\n",
       "      <td>11107</td>\n",
       "    </tr>\n",
       "    <tr>\n",
       "      <th>11108</th>\n",
       "      <td>SQUAT</td>\n",
       "      <td>Isinsu</td>\n",
       "      <td>5</td>\n",
       "      <td>6</td>\n",
       "      <td>11108</td>\n",
       "    </tr>\n",
       "  </tbody>\n",
       "</table>\n",
       "<p>11109 rows × 5 columns</p>\n",
       "</div>"
      ],
      "text/plain": [
       "      exercise subject  label  rep  frame\n",
       "0        SQUAT  Hugues      1    1      0\n",
       "1        SQUAT  Hugues      1    1      1\n",
       "2        SQUAT  Hugues      1    1      2\n",
       "3        SQUAT  Hugues      1    1      3\n",
       "4        SQUAT  Hugues      1    1      4\n",
       "...        ...     ...    ...  ...    ...\n",
       "11104    SQUAT  Isinsu      5    6  11104\n",
       "11105    SQUAT  Isinsu      5    6  11105\n",
       "11106    SQUAT  Isinsu      5    6  11106\n",
       "11107    SQUAT  Isinsu      5    6  11107\n",
       "11108    SQUAT  Isinsu      5    6  11108\n",
       "\n",
       "[11109 rows x 5 columns]"
      ]
     },
     "execution_count": 8,
     "metadata": {},
     "output_type": "execute_result"
    }
   ],
   "source": [
    "squat_df"
   ]
  },
  {
   "cell_type": "code",
   "execution_count": 9,
   "metadata": {},
   "outputs": [],
   "source": [
    "import os\n",
    "\n",
    "output_dir = \"../../data\"\n",
    "\n",
    "for df, labels in [\n",
    "    (squat_df, SQUAT_LABELS),\n",
    "    (lunges_df, LUNGES_LABELS),\n",
    "    (planks_df, PLANK_LABELS),\n",
    "]:\n",
    "    exercise_dfs = []\n",
    "    for label, label_name in labels.items():\n",
    "        exercise_dfs.append(\n",
    "            get_df_from_frames(df[df[\"label\"] == label], poses, label_name)\n",
    "        )\n",
    "\n",
    "    pd.concat(exercise_dfs).to_csv(\n",
    "        os.path.join(output_dir, f\"{df['exercise'].values[0].lower()}.csv\"),\n",
    "        index=False,\n",
    "    )"
   ]
  },
  {
   "cell_type": "markdown",
   "metadata": {},
   "source": [
    "### Visualization "
   ]
  },
  {
   "cell_type": "code",
   "execution_count": 10,
   "metadata": {},
   "outputs": [],
   "source": [
    "openpose_connections = [\n",
    "    (0, 1),\n",
    "    (1, 2),\n",
    "    (1, 5),\n",
    "    (1, 8),\n",
    "    (2, 3),\n",
    "    (3, 4),\n",
    "    (5, 6),\n",
    "    (6, 7),\n",
    "    (8, 9),\n",
    "    (9, 10),\n",
    "    (10, 11),\n",
    "    (8, 12),\n",
    "    (12, 13),\n",
    "    (13, 14),\n",
    "    (0, 15),\n",
    "    (0, 16),\n",
    "    (15, 17),\n",
    "    (16, 18),\n",
    "    (17, 18),\n",
    "    (11, 24),\n",
    "    (11, 22),\n",
    "    (22, 23),\n",
    "    (14, 21),\n",
    "    (14, 19),\n",
    "    (19, 20),\n",
    "]\n",
    "correct_squat_df = pd.read_csv(\"../../data/joints/squat.csv\")\n",
    "correct_squat_1_rep_df = correct_squat_df[\n",
    "    (correct_squat_df[\"rep\"] == 20) & (correct_squat_df[\"label\"] == \"correct\")\n",
    "]"
   ]
  },
  {
   "cell_type": "code",
   "execution_count": 11,
   "metadata": {},
   "outputs": [
    {
     "data": {
      "text/html": [
       "<div>\n",
       "<style scoped>\n",
       "    .dataframe tbody tr th:only-of-type {\n",
       "        vertical-align: middle;\n",
       "    }\n",
       "\n",
       "    .dataframe tbody tr th {\n",
       "        vertical-align: top;\n",
       "    }\n",
       "\n",
       "    .dataframe thead th {\n",
       "        text-align: right;\n",
       "    }\n",
       "</style>\n",
       "<table border=\"1\" class=\"dataframe\">\n",
       "  <thead>\n",
       "    <tr style=\"text-align: right;\">\n",
       "      <th></th>\n",
       "      <th>rep</th>\n",
       "      <th>frame</th>\n",
       "      <th>x</th>\n",
       "      <th>y</th>\n",
       "      <th>z</th>\n",
       "      <th>label</th>\n",
       "    </tr>\n",
       "  </thead>\n",
       "  <tbody>\n",
       "    <tr>\n",
       "      <th>38775</th>\n",
       "      <td>20</td>\n",
       "      <td>0</td>\n",
       "      <td>0.003074</td>\n",
       "      <td>5.019647e-02</td>\n",
       "      <td>0.272710</td>\n",
       "      <td>correct</td>\n",
       "    </tr>\n",
       "    <tr>\n",
       "      <th>38776</th>\n",
       "      <td>20</td>\n",
       "      <td>0</td>\n",
       "      <td>0.008556</td>\n",
       "      <td>1.734723e-18</td>\n",
       "      <td>0.195177</td>\n",
       "      <td>correct</td>\n",
       "    </tr>\n",
       "    <tr>\n",
       "      <th>38777</th>\n",
       "      <td>20</td>\n",
       "      <td>0</td>\n",
       "      <td>-0.052085</td>\n",
       "      <td>-1.030516e-03</td>\n",
       "      <td>0.194393</td>\n",
       "      <td>correct</td>\n",
       "    </tr>\n",
       "    <tr>\n",
       "      <th>38778</th>\n",
       "      <td>20</td>\n",
       "      <td>0</td>\n",
       "      <td>-0.104801</td>\n",
       "      <td>8.110796e-02</td>\n",
       "      <td>0.162209</td>\n",
       "      <td>correct</td>\n",
       "    </tr>\n",
       "    <tr>\n",
       "      <th>38779</th>\n",
       "      <td>20</td>\n",
       "      <td>0</td>\n",
       "      <td>-0.117064</td>\n",
       "      <td>1.757932e-01</td>\n",
       "      <td>0.178103</td>\n",
       "      <td>correct</td>\n",
       "    </tr>\n",
       "    <tr>\n",
       "      <th>...</th>\n",
       "      <td>...</td>\n",
       "      <td>...</td>\n",
       "      <td>...</td>\n",
       "      <td>...</td>\n",
       "      <td>...</td>\n",
       "      <td>...</td>\n",
       "    </tr>\n",
       "    <tr>\n",
       "      <th>41045</th>\n",
       "      <td>20</td>\n",
       "      <td>90</td>\n",
       "      <td>0.092047</td>\n",
       "      <td>6.484777e-02</td>\n",
       "      <td>-0.291350</td>\n",
       "      <td>correct</td>\n",
       "    </tr>\n",
       "    <tr>\n",
       "      <th>41046</th>\n",
       "      <td>20</td>\n",
       "      <td>90</td>\n",
       "      <td>0.058113</td>\n",
       "      <td>7.005692e-03</td>\n",
       "      <td>-0.303498</td>\n",
       "      <td>correct</td>\n",
       "    </tr>\n",
       "    <tr>\n",
       "      <th>41047</th>\n",
       "      <td>20</td>\n",
       "      <td>90</td>\n",
       "      <td>-0.100143</td>\n",
       "      <td>7.591545e-02</td>\n",
       "      <td>-0.286061</td>\n",
       "      <td>correct</td>\n",
       "    </tr>\n",
       "    <tr>\n",
       "      <th>41048</th>\n",
       "      <td>20</td>\n",
       "      <td>90</td>\n",
       "      <td>-0.107261</td>\n",
       "      <td>6.480755e-02</td>\n",
       "      <td>-0.284707</td>\n",
       "      <td>correct</td>\n",
       "    </tr>\n",
       "    <tr>\n",
       "      <th>41049</th>\n",
       "      <td>20</td>\n",
       "      <td>90</td>\n",
       "      <td>-0.081996</td>\n",
       "      <td>6.367264e-03</td>\n",
       "      <td>-0.291752</td>\n",
       "      <td>correct</td>\n",
       "    </tr>\n",
       "  </tbody>\n",
       "</table>\n",
       "<p>2275 rows × 6 columns</p>\n",
       "</div>"
      ],
      "text/plain": [
       "       rep  frame         x             y         z    label\n",
       "38775   20      0  0.003074  5.019647e-02  0.272710  correct\n",
       "38776   20      0  0.008556  1.734723e-18  0.195177  correct\n",
       "38777   20      0 -0.052085 -1.030516e-03  0.194393  correct\n",
       "38778   20      0 -0.104801  8.110796e-02  0.162209  correct\n",
       "38779   20      0 -0.117064  1.757932e-01  0.178103  correct\n",
       "...    ...    ...       ...           ...       ...      ...\n",
       "41045   20     90  0.092047  6.484777e-02 -0.291350  correct\n",
       "41046   20     90  0.058113  7.005692e-03 -0.303498  correct\n",
       "41047   20     90 -0.100143  7.591545e-02 -0.286061  correct\n",
       "41048   20     90 -0.107261  6.480755e-02 -0.284707  correct\n",
       "41049   20     90 -0.081996  6.367264e-03 -0.291752  correct\n",
       "\n",
       "[2275 rows x 6 columns]"
      ]
     },
     "execution_count": 11,
     "metadata": {},
     "output_type": "execute_result"
    }
   ],
   "source": [
    "correct_squat_1_rep_df"
   ]
  },
  {
   "cell_type": "code",
   "execution_count": 12,
   "metadata": {},
   "outputs": [],
   "source": [
    "rep_joint = pd.DataFrame(\n",
    "    [\n",
    "        joints.reset_index().loc[1]\n",
    "        for _, joints in correct_squat_1_rep_df.groupby(\"frame\")\n",
    "    ]\n",
    ")"
   ]
  },
  {
   "cell_type": "code",
   "execution_count": 14,
   "metadata": {},
   "outputs": [
    {
     "data": {
      "text/plain": [
       "torch.Size([91, 3])"
      ]
     },
     "execution_count": 14,
     "metadata": {},
     "output_type": "execute_result"
    }
   ],
   "source": [
    "joint_tensor = torch.tensor(rep_joint[[\"x\", \"y\", \"z\"]].values)\n",
    "dct_2d(joint_tensor).shape"
   ]
  },
  {
   "cell_type": "code",
   "execution_count": 169,
   "metadata": {},
   "outputs": [
    {
     "data": {
      "text/plain": [
       "array([ 1.77235516e+00,  1.93550402e-02, -6.10309717e-01,  2.93148125e-02,\n",
       "        1.96669056e-01,  6.70499184e-02,  1.50116892e-01,  8.90138860e-02,\n",
       "       -8.60724461e-02, -1.24325112e-01,  1.72719675e-01, -3.92814242e-02,\n",
       "       -5.44771157e-02,  6.29004751e-02,  6.76117788e-03,  4.90850667e-02,\n",
       "       -1.61457387e-02, -2.16507942e-02,  2.14643252e-02,  6.78777702e-03,\n",
       "       -2.23593247e-02, -7.26066625e-03, -1.92074552e-02,  1.41491572e-02,\n",
       "        1.34144935e-02, -1.87674712e-02, -4.47017483e-03,  1.40342391e-02,\n",
       "        6.02934201e-03, -4.89777236e-03,  4.58763155e-03,  4.26093110e-03,\n",
       "        1.33727273e-03, -2.62512880e-03, -1.42968126e-03,  5.12466491e-04,\n",
       "       -1.12165452e-03,  5.34660408e-06, -1.56824185e-04, -5.95800130e-04,\n",
       "        4.21926858e-04,  2.50334904e-04,  9.96976746e-05, -3.84103136e-05,\n",
       "       -3.88044299e-05, -4.61425340e-04, -4.52134348e-04,  8.51114156e-05,\n",
       "        8.26933754e-04, -4.98834204e-04, -1.71542371e-04,  5.17271783e-04,\n",
       "        2.74313630e-04,  8.55325915e-04,  6.04696013e-04, -6.94059178e-04,\n",
       "       -1.98236895e-03,  1.18990881e-04,  9.08463335e-04, -2.71309697e-04,\n",
       "        4.00653505e-04, -5.35331324e-04, -3.50509276e-04,  1.45548563e-04,\n",
       "       -3.07107515e-05, -2.01972038e-04,  1.87491885e-04,  9.88343344e-06,\n",
       "       -2.77895472e-04,  2.18266329e-04,  2.46162532e-04, -4.47153713e-04,\n",
       "        1.61675578e-04,  3.16434698e-04, -3.57208505e-04,  3.39674236e-04,\n",
       "        4.21348935e-04, -1.81202562e-04,  6.00398123e-04,  1.36827329e-06,\n",
       "       -2.89471743e-04,  2.96535908e-04, -4.21936711e-05,  2.52551646e-04,\n",
       "        1.00253860e-04,  1.68602427e-05,  6.61565776e-04, -7.79754253e-04,\n",
       "       -7.60066158e-04,  7.09309585e-04, -1.84464388e-04])"
      ]
     },
     "execution_count": 169,
     "metadata": {},
     "output_type": "execute_result"
    }
   ],
   "source": [
    "from scipy.fft import dct, idct\n",
    "\n",
    "dct(rep_joint[\"x\"].values)"
   ]
  },
  {
   "cell_type": "code",
   "execution_count": 55,
   "metadata": {},
   "outputs": [],
   "source": [
    "input = rep_joint[[\"x\", \"y\", \"z\"]].values"
   ]
  },
  {
   "cell_type": "code",
   "execution_count": 142,
   "metadata": {},
   "outputs": [
    {
     "data": {
      "text/plain": [
       "(91, 3)"
      ]
     },
     "execution_count": 142,
     "metadata": {},
     "output_type": "execute_result"
    }
   ],
   "source": [
    "input.shape"
   ]
  },
  {
   "cell_type": "code",
   "execution_count": 161,
   "metadata": {},
   "outputs": [],
   "source": [
    "from scipy.fftpack import dct, idct\n",
    "\n",
    "\n",
    "def get_dct_features(input) -> np.ndarray:\n",
    "    compressed_dct = dct(input, norm=\"ortho\")[:25]\n",
    "    x_dct = np.zeros(91, dtype=float)\n",
    "\n",
    "    x_dct[:25] = compressed_dct\n",
    "    x_idct = idct(x_dct, norm=\"ortho\")\n",
    "    return x_idct\n",
    "\n",
    "\n",
    "out = get_dct_features(input[:, 0])"
   ]
  },
  {
   "cell_type": "code",
   "execution_count": 162,
   "metadata": {},
   "outputs": [
    {
     "data": {
      "text/plain": [
       "[<matplotlib.lines.Line2D at 0x16b432c10>]"
      ]
     },
     "execution_count": 162,
     "metadata": {},
     "output_type": "execute_result"
    },
    {
     "data": {
      "image/png": "[encoded data removed]",
      "text/plain": [
       "<Figure size 640x480 with 1 Axes>"
      ]
     },
     "metadata": {},
     "output_type": "display_data"
    }
   ],
   "source": [
    "plt.plot(input[:, 0], label=\"x\")"
   ]
  },
  {
   "cell_type": "code",
   "execution_count": 164,
   "metadata": {},
   "outputs": [
    {
     "data": {
      "text/plain": [
       "[<matplotlib.lines.Line2D at 0x16b44e7d0>]"
      ]
     },
     "execution_count": 164,
     "metadata": {},
     "output_type": "execute_result"
    },
    {
     "data": {
      "image/png": "[encoded data removed]",
      "text/plain": [
       "<Figure size 640x480 with 1 Axes>"
      ]
     },
     "metadata": {},
     "output_type": "display_data"
    }
   ],
   "source": [
    "plt.plot(out, label=\"x\")"
   ]
  },
  {
   "cell_type": "code",
   "execution_count": 17,
   "metadata": {},
   "outputs": [
    {
     "data": {
      "text/plain": [
       "array([[ 8.55558023e-03,  1.73472348e-18,  1.95176619e-01],\n",
       "       [ 8.33807697e-03,  1.73472348e-18,  1.95176619e-01],\n",
       "       [ 7.96943412e-03,  3.46944695e-18,  1.95176619e-01],\n",
       "       [ 7.47586986e-03,  1.73472348e-18,  1.95176619e-01],\n",
       "       [ 6.99260640e-03, -3.46944695e-18,  1.95176619e-01],\n",
       "       [ 6.39389559e-03,  1.04083409e-17,  1.95176619e-01],\n",
       "       [ 5.78168277e-03,  3.46944695e-18,  1.95176619e-01],\n",
       "       [ 5.16347164e-03,  1.56125113e-17,  1.95176619e-01],\n",
       "       [ 4.61710550e-03,  0.00000000e+00,  1.95176619e-01],\n",
       "       [ 4.41522247e-03,  3.46944695e-18,  1.95176619e-01],\n",
       "       [ 4.51454895e-03,  5.20417043e-18,  1.95176619e-01],\n",
       "       [ 4.73741445e-03, -1.90819582e-17,  1.95176619e-01],\n",
       "       [ 4.74686611e-03, -3.46944695e-18,  1.95176619e-01],\n",
       "       [ 4.47635690e-03,  1.38777878e-17,  1.95176619e-01],\n",
       "       [ 3.88414431e-03,  8.67361738e-18,  1.95176619e-01],\n",
       "       [ 3.21807842e-03, -9.54097912e-18,  1.95176619e-01],\n",
       "       [ 2.79608403e-03, -2.60208521e-17,  1.95176619e-01],\n",
       "       [ 2.77607215e-03,  1.21430643e-17,  1.95176619e-01],\n",
       "       [ 2.97062627e-03,  6.93889390e-18,  1.95176619e-01],\n",
       "       [ 3.39658762e-03, -1.43114687e-17,  1.95176619e-01],\n",
       "       [ 4.09249840e-03, -3.07913417e-17,  1.95176619e-01],\n",
       "       [ 5.09173858e-03,  3.46944695e-18,  1.95176619e-01],\n",
       "       [ 6.14372190e-03, -9.54097912e-18,  1.95176619e-01],\n",
       "       [ 7.35777873e-03, -1.73472348e-17,  1.95176619e-01],\n",
       "       [ 8.54036558e-03, -9.10729825e-18,  1.95176619e-01],\n",
       "       [ 9.56430301e-03,  1.21430643e-17,  1.95176619e-01],\n",
       "       [ 1.05849587e-02, -1.30104261e-17,  1.95176619e-01],\n",
       "       [ 1.16968172e-02, -5.20417043e-18,  1.95176619e-01],\n",
       "       [ 1.27955564e-02,  1.04083409e-17,  1.95176619e-01],\n",
       "       [ 1.38355169e-02,  7.80625564e-18,  1.95176619e-01],\n",
       "       [ 1.49305976e-02,  6.07153217e-18,  1.95176619e-01],\n",
       "       [ 1.56751690e-02,  3.20923843e-17,  1.95176619e-01],\n",
       "       [ 1.61692169e-02, -9.54097912e-18,  1.95176619e-01],\n",
       "       [ 1.66693906e-02, -4.68375339e-17,  1.95176619e-01],\n",
       "       [ 1.72011633e-02, -1.38777878e-17,  1.95176619e-01],\n",
       "       [ 1.75878569e-02, -8.67361738e-18,  1.95176619e-01],\n",
       "       [ 1.81696126e-02, -8.67361738e-18,  1.95176619e-01],\n",
       "       [ 1.87263363e-02, -1.64798730e-17,  1.95176619e-01],\n",
       "       [ 1.88760484e-02,  2.25514052e-17,  1.95176619e-01],\n",
       "       [ 1.83317592e-02, -4.33680869e-18,  1.95176619e-01],\n",
       "       [ 1.71337556e-02,  5.20417043e-18,  1.95176619e-01],\n",
       "       [ 1.52460507e-02,  1.56125113e-17,  1.95176619e-01],\n",
       "       [ 1.34298807e-02, -1.25767452e-17,  1.95176619e-01],\n",
       "       [ 1.23225577e-02, -7.80625564e-18,  1.95176619e-01],\n",
       "       [ 1.23567039e-02,  3.46944695e-18,  1.95176619e-01],\n",
       "       [ 1.31961866e-02,  4.33680869e-18,  1.95176619e-01],\n",
       "       [ 1.45310572e-02, -7.80625564e-18,  1.95176619e-01],\n",
       "       [ 1.56751613e-02, -6.24500451e-17,  1.95176619e-01],\n",
       "       [ 1.65417242e-02, -1.64798730e-17,  1.95176619e-01],\n",
       "       [ 1.73651089e-02,  1.38777878e-17,  1.95176619e-01],\n",
       "       [ 1.83554173e-02,  2.77555756e-17,  1.95176619e-01],\n",
       "       [ 1.94171846e-02,  8.67361738e-19,  1.95176619e-01],\n",
       "       [ 2.03803072e-02, -1.12757026e-17,  1.95176619e-01],\n",
       "       [ 2.08134783e-02,  1.30104261e-17,  1.95176619e-01],\n",
       "       [ 2.03518861e-02,  1.56125113e-17,  1.95176619e-01],\n",
       "       [ 1.92664754e-02, -6.07153217e-18,  1.95176619e-01],\n",
       "       [ 1.79132170e-02,  3.46944695e-18,  1.95176619e-01],\n",
       "       [ 1.66730865e-02,  2.08166817e-17,  1.95176619e-01],\n",
       "       [ 1.52310901e-02,  3.20923843e-17,  1.95176619e-01],\n",
       "       [ 1.38343788e-02, -6.93889390e-18,  1.95176619e-01],\n",
       "       [ 1.21904993e-02,  1.99493200e-17,  1.95176619e-01],\n",
       "       [ 1.01401938e-02,  2.51534904e-17,  1.95176619e-01],\n",
       "       [ 8.09305089e-03,  2.16840434e-17,  1.95176619e-01],\n",
       "       [ 6.44198288e-03, -7.80625564e-18,  1.95176619e-01],\n",
       "       [ 5.35632684e-03, -1.47451495e-17,  1.95176619e-01],\n",
       "       [ 5.36138892e-03, -5.11743425e-17,  1.95176619e-01],\n",
       "       [ 6.07843017e-03,  8.67361738e-19,  1.95176619e-01],\n",
       "       [ 7.41898484e-03,  2.08166817e-17,  1.95176619e-01],\n",
       "       [ 8.60427869e-03, -1.21430643e-17,  1.95176619e-01],\n",
       "       [ 9.58850127e-03, -5.20417043e-18,  1.95176619e-01],\n",
       "       [ 9.91033759e-03, -8.67361738e-18,  1.95176619e-01],\n",
       "       [ 9.77844654e-03,  1.56125113e-17,  1.95176619e-01],\n",
       "       [ 9.16738457e-03,  8.67361738e-18,  1.95176619e-01],\n",
       "       [ 8.11882755e-03,  3.46944695e-17,  1.95176619e-01],\n",
       "       [ 6.90569425e-03,  6.93889390e-18,  1.95176619e-01],\n",
       "       [ 5.75154140e-03, -2.42861287e-17,  1.95176619e-01],\n",
       "       [ 4.68917987e-03,  1.56125113e-17,  1.95176619e-01],\n",
       "       [ 3.75685203e-03,  1.38777878e-17,  1.95176619e-01],\n",
       "       [ 3.03467327e-03, -1.04083409e-17,  1.95176619e-01],\n",
       "       [ 2.46655393e-03, -1.38777878e-17,  1.95176619e-01],\n",
       "       [ 2.15297096e-03, -8.67361738e-18,  1.95176619e-01],\n",
       "       [ 2.29917613e-03,  0.00000000e+00,  1.95176619e-01],\n",
       "       [ 2.84310229e-03,  3.46944695e-18,  1.95176619e-01],\n",
       "       [ 3.59685116e-03, -5.20417043e-18,  1.95176619e-01],\n",
       "       [ 4.38661794e-03,  0.00000000e+00,  1.95176619e-01],\n",
       "       [ 5.02572834e-03, -8.67361738e-18,  1.95176619e-01],\n",
       "       [ 5.40630909e-03, -1.38777878e-17,  1.95176619e-01],\n",
       "       [ 5.56963502e-03,  5.20417043e-18,  1.95176619e-01],\n",
       "       [ 5.60014071e-03, -6.93889390e-18,  1.95176619e-01],\n",
       "       [ 5.57185736e-03,  1.21430643e-17,  1.95176619e-01],\n",
       "       [ 5.57722451e-03,  8.67361738e-18,  1.95176619e-01]])"
      ]
     },
     "execution_count": 17,
     "metadata": {},
     "output_type": "execute_result"
    }
   ],
   "source": [
    "rep_joint[[\"x\", \"y\", \"z\"]].values"
   ]
  },
  {
   "cell_type": "code",
   "execution_count": 18,
   "metadata": {},
   "outputs": [
    {
     "name": "stdout",
     "output_type": "stream",
     "text": [
      "[[ 4.11639534e-01 -4.77258832e-01  2.91073106e-01]\n",
      " [ 3.20173068e-01 -3.70849809e-01  2.26396548e-01]\n",
      " [ 1.74278365e-01 -2.00897583e-01  1.23233414e-01]\n",
      " [ 3.01866814e-02 -3.25857079e-02  2.13452071e-02]\n",
      " [-6.30144625e-02  7.69558652e-02 -4.45579538e-02]\n",
      " [-8.46551373e-02  1.03283774e-01 -5.98602216e-02]\n",
      " [-4.83110823e-02  6.15710879e-02 -3.41610939e-02]\n",
      " [ 9.59097579e-03 -6.29727167e-03  6.78184402e-03]\n",
      " [ 5.10424214e-02 -5.61262374e-02  3.60924423e-02]\n",
      " [ 5.56309181e-02 -6.36177099e-02  3.93369994e-02]\n",
      " [ 2.78425634e-02 -3.30958640e-02  1.96876654e-02]\n",
      " [-9.95509954e-03  1.01985512e-02 -7.03931839e-03]\n",
      " [-3.32334408e-02  3.79673457e-02 -2.34995914e-02]\n",
      " [-2.99041600e-02  3.56943070e-02 -2.11454344e-02]\n",
      " [-5.69273718e-03  9.12815160e-03 -4.02537306e-03]\n",
      " [ 2.16635956e-02 -2.19797833e-02  1.53184754e-02]\n",
      " [ 3.46594257e-02 -3.76500461e-02  2.45079149e-02]\n",
      " [ 2.66994944e-02 -2.99114515e-02  1.88793936e-02]\n",
      " [ 4.96409036e-03 -6.33010300e-03  3.51014196e-03]\n",
      " [-1.54728963e-02  1.63785375e-02 -1.09409899e-02]\n",
      " [-2.18182075e-02  2.37397896e-02 -1.54278025e-02]\n",
      " [-1.13579447e-02  1.24076605e-02 -8.03127975e-03]\n",
      " [ 7.73938793e-03 -8.73490243e-03  5.47257369e-03]\n",
      " [ 2.25170193e-02 -2.52683068e-02  1.59219370e-02]\n",
      " [ 2.38398730e-02 -2.68722155e-02  1.68573359e-02]\n",
      " [ 1.19076228e-02 -1.35982408e-02  8.41996081e-03]\n",
      " [-4.57674567e-03  4.93305636e-03 -3.23624790e-03]\n",
      " [-1.45963903e-02  1.63855676e-02 -1.03212065e-02]\n",
      " [-1.20593398e-02  1.38242910e-02 -8.52724096e-03]\n",
      " [ 6.01247898e-04 -1.73136800e-04  4.25146466e-04]\n",
      " [ 1.45349344e-02 -1.57844489e-02  1.02777507e-02]\n",
      " [ 2.05860156e-02 -2.27388263e-02  1.45565112e-02]\n",
      " [ 1.52430965e-02 -1.69987557e-02  1.07784969e-02]\n",
      " [ 2.60274143e-03 -3.02695183e-03  1.84041611e-03]\n",
      " [-8.70101025e-03  9.58082011e-03 -6.15254335e-03]\n",
      " [-1.13488881e-02  1.26166366e-02 -8.02487570e-03]\n",
      " [-4.03767273e-03  4.54526906e-03 -2.85506577e-03]\n",
      " [ 7.96221078e-03 -8.81691287e-03  5.63013324e-03]\n",
      " [ 1.65570862e-02 -1.84495307e-02  1.17076279e-02]\n",
      " [ 1.62497099e-02 -1.81781523e-02  1.14902800e-02]\n",
      " [ 7.62332815e-03 -8.59698701e-03  5.39050703e-03]\n",
      " [-3.29870838e-03  3.60472867e-03 -2.33253906e-03]\n",
      " [-9.22735708e-03  1.02810390e-02 -6.52472676e-03]\n",
      " [-6.44448432e-03  7.23824512e-03 -4.55693856e-03]\n",
      " [ 2.88975249e-03 -3.15762800e-03  2.04336358e-03]\n",
      " [ 1.23750586e-02 -1.37786175e-02  8.75048783e-03]\n",
      " [ 1.57363988e-02 -1.75979748e-02  1.11273143e-02]\n",
      " [ 1.09547840e-02 -1.23172867e-02  7.74620206e-03]\n",
      " [ 1.45732395e-03 -1.72468023e-03  1.03048365e-03]\n",
      " [-6.31921647e-03  7.00133136e-03 -4.46836081e-03]\n",
      " [-7.27248679e-03  8.13814332e-03 -5.14242473e-03]\n",
      " [-9.66459183e-04  1.15659716e-03 -6.83389842e-04]\n",
      " [ 8.21486840e-03 -9.08095910e-03  5.80878915e-03]\n",
      " [ 1.41021730e-02 -1.56904010e-02  9.97174214e-03]\n",
      " [ 1.28726413e-02 -1.43790850e-02  9.10233193e-03]\n",
      " [ 5.52083196e-03 -6.22154413e-03  3.90381772e-03]\n",
      " [-2.92127691e-03  3.18925832e-03 -2.06565471e-03]\n",
      " [-6.81817499e-03  7.56247887e-03 -4.82117777e-03]\n",
      " [-3.68287153e-03  4.10096640e-03 -2.60418343e-03]\n",
      " [ 4.24394117e-03 -4.72062555e-03  3.00091958e-03]\n",
      " [ 1.15847169e-02 -1.29149428e-02  8.19163185e-03]\n",
      " [ 1.34630976e-02 -1.50352158e-02  9.51984759e-03]\n",
      " [ 8.73447366e-03 -9.78620963e-03  6.17620555e-03]\n",
      " [ 6.74326215e-04 -8.05356976e-04  4.76820639e-04]\n",
      " [-5.28335087e-03  5.84991207e-03 -3.73589323e-03]\n",
      " [-5.20113218e-03  5.77845345e-03 -3.67775583e-03]\n",
      " [ 7.66133558e-04 -8.61518234e-04  5.41738234e-04]\n",
      " [ 8.54196633e-03 -9.53271529e-03  6.04008232e-03]\n",
      " [ 1.29064601e-02 -1.44121206e-02  9.12624543e-03]\n",
      " [ 1.09931559e-02 -1.22934243e-02  7.77333506e-03]\n",
      " [ 4.16676745e-03 -4.68855455e-03  2.94634952e-03]\n",
      " [-2.94518096e-03  3.24565330e-03 -2.08255743e-03]\n",
      " [-5.58311227e-03  6.19749511e-03 -3.94785654e-03]\n",
      " [-2.03460101e-03  2.24983914e-03 -1.43868017e-03]\n",
      " [ 5.25762688e-03 -5.87843088e-03  3.71770362e-03]\n",
      " [ 1.13736058e-02 -1.27003703e-02  8.04235380e-03]\n",
      " [ 1.22300991e-02 -1.36579822e-02  8.64798600e-03]\n",
      " [ 7.30231633e-03 -8.16170655e-03  5.16351739e-03]\n",
      " [-5.76943444e-05  5.09080250e-05 -4.07960621e-05]\n",
      " [-4.89673931e-03  5.45284526e-03 -3.46251757e-03]\n",
      " [-3.98810702e-03  4.44167299e-03 -2.82001752e-03]\n",
      " [ 2.02078158e-03 -2.26171684e-03  1.42890836e-03]\n",
      " [ 9.06779399e-03 -1.01242622e-02  6.41189862e-03]\n",
      " [ 1.24180800e-02 -1.38609470e-02  8.78090861e-03]\n",
      " [ 9.84071220e-03 -1.09814737e-02  6.95843433e-03]\n",
      " [ 3.09199024e-03 -3.44700240e-03  2.18636727e-03]\n",
      " [-3.27929696e-03  3.66339926e-03 -2.31881312e-03]\n",
      " [-4.99337073e-03  5.57127185e-03 -3.53084631e-03]\n",
      " [-9.10361863e-04  1.00483166e-03 -6.43723047e-04]\n",
      " [ 6.21237528e-03 -6.95523723e-03  4.39281269e-03]\n",
      " [ 1.15789958e-02 -1.29517510e-02  8.18758645e-03]]\n"
     ]
    }
   ],
   "source": [
    "print(out)"
   ]
  },
  {
   "cell_type": "code",
   "execution_count": 19,
   "metadata": {},
   "outputs": [],
   "source": [
    "X_LIM = (-1, 1)\n",
    "Y_LIM = (-1, 1)\n",
    "Z_LIM = (-1, 1)\n",
    "\n",
    "ELEV = 0\n",
    "AZIM = 0"
   ]
  },
  {
   "cell_type": "code",
   "execution_count": 20,
   "metadata": {},
   "outputs": [
    {
     "ename": "KeyboardInterrupt",
     "evalue": "",
     "output_type": "error",
     "traceback": [
      "\u001b[0;31m---------------------------------------------------------------------------\u001b[0m",
      "\u001b[0;31mKeyboardInterrupt\u001b[0m                         Traceback (most recent call last)",
      "Cell \u001b[0;32mIn[20], line 33\u001b[0m\n\u001b[1;32m     27\u001b[0m     \u001b[38;5;28;01mreturn\u001b[39;00m animation\u001b[38;5;241m.\u001b[39mFuncAnimation(\n\u001b[1;32m     28\u001b[0m         fig, update, frames\u001b[38;5;241m=\u001b[39mpd\u001b[38;5;241m.\u001b[39munique(data[\u001b[38;5;124m\"\u001b[39m\u001b[38;5;124mframe\u001b[39m\u001b[38;5;124m\"\u001b[39m]), interval\u001b[38;5;241m=\u001b[39m\u001b[38;5;241m120\u001b[39m\n\u001b[1;32m     29\u001b[0m     )\n\u001b[1;32m     32\u001b[0m ani \u001b[38;5;241m=\u001b[39m get_3D_animation(correct_squat_1_rep_df)\n\u001b[0;32m---> 33\u001b[0m HTML(\u001b[43mani\u001b[49m\u001b[38;5;241;43m.\u001b[39;49m\u001b[43mto_jshtml\u001b[49m\u001b[43m(\u001b[49m\u001b[43m)\u001b[49m)\n",
      "File \u001b[0;32m~/Github-Repositories/explainable-methods-in-exercise-analysis/.env/lib/python3.11/site-packages/matplotlib/animation.py:1353\u001b[0m, in \u001b[0;36mAnimation.to_jshtml\u001b[0;34m(self, fps, embed_frames, default_mode)\u001b[0m\n\u001b[1;32m   1349\u001b[0m         path \u001b[38;5;241m=\u001b[39m Path(tmpdir, \u001b[38;5;124m\"\u001b[39m\u001b[38;5;124mtemp.html\u001b[39m\u001b[38;5;124m\"\u001b[39m)\n\u001b[1;32m   1350\u001b[0m         writer \u001b[38;5;241m=\u001b[39m HTMLWriter(fps\u001b[38;5;241m=\u001b[39mfps,\n\u001b[1;32m   1351\u001b[0m                             embed_frames\u001b[38;5;241m=\u001b[39membed_frames,\n\u001b[1;32m   1352\u001b[0m                             default_mode\u001b[38;5;241m=\u001b[39mdefault_mode)\n\u001b[0;32m-> 1353\u001b[0m         \u001b[38;5;28;43mself\u001b[39;49m\u001b[38;5;241;43m.\u001b[39;49m\u001b[43msave\u001b[49m\u001b[43m(\u001b[49m\u001b[38;5;28;43mstr\u001b[39;49m\u001b[43m(\u001b[49m\u001b[43mpath\u001b[49m\u001b[43m)\u001b[49m\u001b[43m,\u001b[49m\u001b[43m \u001b[49m\u001b[43mwriter\u001b[49m\u001b[38;5;241;43m=\u001b[39;49m\u001b[43mwriter\u001b[49m\u001b[43m)\u001b[49m\n\u001b[1;32m   1354\u001b[0m         \u001b[38;5;28mself\u001b[39m\u001b[38;5;241m.\u001b[39m_html_representation \u001b[38;5;241m=\u001b[39m path\u001b[38;5;241m.\u001b[39mread_text()\n\u001b[1;32m   1356\u001b[0m \u001b[38;5;28;01mreturn\u001b[39;00m \u001b[38;5;28mself\u001b[39m\u001b[38;5;241m.\u001b[39m_html_representation\n",
      "File \u001b[0;32m~/Github-Repositories/explainable-methods-in-exercise-analysis/.env/lib/python3.11/site-packages/matplotlib/animation.py:1105\u001b[0m, in \u001b[0;36mAnimation.save\u001b[0;34m(self, filename, writer, fps, dpi, codec, bitrate, extra_args, metadata, extra_anim, savefig_kwargs, progress_callback)\u001b[0m\n\u001b[1;32m   1102\u001b[0m \u001b[38;5;28;01mfor\u001b[39;00m data \u001b[38;5;129;01min\u001b[39;00m \u001b[38;5;28mzip\u001b[39m(\u001b[38;5;241m*\u001b[39m[a\u001b[38;5;241m.\u001b[39mnew_saved_frame_seq() \u001b[38;5;28;01mfor\u001b[39;00m a \u001b[38;5;129;01min\u001b[39;00m all_anim]):\n\u001b[1;32m   1103\u001b[0m     \u001b[38;5;28;01mfor\u001b[39;00m anim, d \u001b[38;5;129;01min\u001b[39;00m \u001b[38;5;28mzip\u001b[39m(all_anim, data):\n\u001b[1;32m   1104\u001b[0m         \u001b[38;5;66;03m# TODO: See if turning off blit is really necessary\u001b[39;00m\n\u001b[0;32m-> 1105\u001b[0m         \u001b[43manim\u001b[49m\u001b[38;5;241;43m.\u001b[39;49m\u001b[43m_draw_next_frame\u001b[49m\u001b[43m(\u001b[49m\u001b[43md\u001b[49m\u001b[43m,\u001b[49m\u001b[43m \u001b[49m\u001b[43mblit\u001b[49m\u001b[38;5;241;43m=\u001b[39;49m\u001b[38;5;28;43;01mFalse\u001b[39;49;00m\u001b[43m)\u001b[49m\n\u001b[1;32m   1106\u001b[0m         \u001b[38;5;28;01mif\u001b[39;00m progress_callback \u001b[38;5;129;01mis\u001b[39;00m \u001b[38;5;129;01mnot\u001b[39;00m \u001b[38;5;28;01mNone\u001b[39;00m:\n\u001b[1;32m   1107\u001b[0m             progress_callback(frame_number, total_frames)\n",
      "File \u001b[0;32m~/Github-Repositories/explainable-methods-in-exercise-analysis/.env/lib/python3.11/site-packages/matplotlib/animation.py:1140\u001b[0m, in \u001b[0;36mAnimation._draw_next_frame\u001b[0;34m(self, framedata, blit)\u001b[0m\n\u001b[1;32m   1136\u001b[0m \u001b[38;5;28;01mdef\u001b[39;00m \u001b[38;5;21m_draw_next_frame\u001b[39m(\u001b[38;5;28mself\u001b[39m, framedata, blit):\n\u001b[1;32m   1137\u001b[0m     \u001b[38;5;66;03m# Breaks down the drawing of the next frame into steps of pre- and\u001b[39;00m\n\u001b[1;32m   1138\u001b[0m     \u001b[38;5;66;03m# post- draw, as well as the drawing of the frame itself.\u001b[39;00m\n\u001b[1;32m   1139\u001b[0m     \u001b[38;5;28mself\u001b[39m\u001b[38;5;241m.\u001b[39m_pre_draw(framedata, blit)\n\u001b[0;32m-> 1140\u001b[0m     \u001b[38;5;28;43mself\u001b[39;49m\u001b[38;5;241;43m.\u001b[39;49m\u001b[43m_draw_frame\u001b[49m\u001b[43m(\u001b[49m\u001b[43mframedata\u001b[49m\u001b[43m)\u001b[49m\n\u001b[1;32m   1141\u001b[0m     \u001b[38;5;28mself\u001b[39m\u001b[38;5;241m.\u001b[39m_post_draw(framedata, blit)\n",
      "File \u001b[0;32m~/Github-Repositories/explainable-methods-in-exercise-analysis/.env/lib/python3.11/site-packages/matplotlib/animation.py:1768\u001b[0m, in \u001b[0;36mFuncAnimation._draw_frame\u001b[0;34m(self, framedata)\u001b[0m\n\u001b[1;32m   1764\u001b[0m     \u001b[38;5;28mself\u001b[39m\u001b[38;5;241m.\u001b[39m_save_seq \u001b[38;5;241m=\u001b[39m \u001b[38;5;28mself\u001b[39m\u001b[38;5;241m.\u001b[39m_save_seq[\u001b[38;5;241m-\u001b[39m\u001b[38;5;28mself\u001b[39m\u001b[38;5;241m.\u001b[39m_save_count:]\n\u001b[1;32m   1766\u001b[0m \u001b[38;5;66;03m# Call the func with framedata and args. If blitting is desired,\u001b[39;00m\n\u001b[1;32m   1767\u001b[0m \u001b[38;5;66;03m# func needs to return a sequence of any artists that were modified.\u001b[39;00m\n\u001b[0;32m-> 1768\u001b[0m \u001b[38;5;28mself\u001b[39m\u001b[38;5;241m.\u001b[39m_drawn_artists \u001b[38;5;241m=\u001b[39m \u001b[38;5;28;43mself\u001b[39;49m\u001b[38;5;241;43m.\u001b[39;49m\u001b[43m_func\u001b[49m\u001b[43m(\u001b[49m\u001b[43mframedata\u001b[49m\u001b[43m,\u001b[49m\u001b[43m \u001b[49m\u001b[38;5;241;43m*\u001b[39;49m\u001b[38;5;28;43mself\u001b[39;49m\u001b[38;5;241;43m.\u001b[39;49m\u001b[43m_args\u001b[49m\u001b[43m)\u001b[49m\n\u001b[1;32m   1770\u001b[0m \u001b[38;5;28;01mif\u001b[39;00m \u001b[38;5;28mself\u001b[39m\u001b[38;5;241m.\u001b[39m_blit:\n\u001b[1;32m   1772\u001b[0m     err \u001b[38;5;241m=\u001b[39m \u001b[38;5;167;01mRuntimeError\u001b[39;00m(\u001b[38;5;124m'\u001b[39m\u001b[38;5;124mThe animation function must return a sequence \u001b[39m\u001b[38;5;124m'\u001b[39m\n\u001b[1;32m   1773\u001b[0m                        \u001b[38;5;124m'\u001b[39m\u001b[38;5;124mof Artist objects.\u001b[39m\u001b[38;5;124m'\u001b[39m)\n",
      "Cell \u001b[0;32mIn[20], line 10\u001b[0m, in \u001b[0;36mget_3D_animation.<locals>.update\u001b[0;34m(i)\u001b[0m\n\u001b[1;32m      9\u001b[0m \u001b[38;5;28;01mdef\u001b[39;00m \u001b[38;5;21mupdate\u001b[39m(i):\n\u001b[0;32m---> 10\u001b[0m     \u001b[43max\u001b[49m\u001b[38;5;241;43m.\u001b[39;49m\u001b[43mclear\u001b[49m\u001b[43m(\u001b[49m\u001b[43m)\u001b[49m\n\u001b[1;32m     11\u001b[0m     ax\u001b[38;5;241m.\u001b[39mset_xlim3d(\u001b[38;5;241m*\u001b[39mX_LIM)\n\u001b[1;32m     12\u001b[0m     ax\u001b[38;5;241m.\u001b[39mset_ylim3d(\u001b[38;5;241m*\u001b[39mY_LIM)\n",
      "File \u001b[0;32m~/Github-Repositories/explainable-methods-in-exercise-analysis/.env/lib/python3.11/site-packages/mpl_toolkits/mplot3d/axes3d.py:1031\u001b[0m, in \u001b[0;36mAxes3D.clear\u001b[0;34m(self)\u001b[0m\n\u001b[1;32m   1029\u001b[0m \u001b[38;5;28;01mdef\u001b[39;00m \u001b[38;5;21mclear\u001b[39m(\u001b[38;5;28mself\u001b[39m):\n\u001b[1;32m   1030\u001b[0m     \u001b[38;5;66;03m# docstring inherited.\u001b[39;00m\n\u001b[0;32m-> 1031\u001b[0m     \u001b[38;5;28;43msuper\u001b[39;49m\u001b[43m(\u001b[49m\u001b[43m)\u001b[49m\u001b[38;5;241;43m.\u001b[39;49m\u001b[43mclear\u001b[49m\u001b[43m(\u001b[49m\u001b[43m)\u001b[49m\n\u001b[1;32m   1032\u001b[0m     \u001b[38;5;28;01mif\u001b[39;00m \u001b[38;5;28mself\u001b[39m\u001b[38;5;241m.\u001b[39m_focal_length \u001b[38;5;241m==\u001b[39m np\u001b[38;5;241m.\u001b[39minf:\n\u001b[1;32m   1033\u001b[0m         \u001b[38;5;28mself\u001b[39m\u001b[38;5;241m.\u001b[39m_zmargin \u001b[38;5;241m=\u001b[39m mpl\u001b[38;5;241m.\u001b[39mrcParams[\u001b[38;5;124m'\u001b[39m\u001b[38;5;124maxes.zmargin\u001b[39m\u001b[38;5;124m'\u001b[39m]\n",
      "File \u001b[0;32m~/Github-Repositories/explainable-methods-in-exercise-analysis/.env/lib/python3.11/site-packages/matplotlib/axes/_base.py:1388\u001b[0m, in \u001b[0;36m_AxesBase.clear\u001b[0;34m(self)\u001b[0m\n\u001b[1;32m   1386\u001b[0m     \u001b[38;5;28mself\u001b[39m\u001b[38;5;241m.\u001b[39mcla()\n\u001b[1;32m   1387\u001b[0m \u001b[38;5;28;01melse\u001b[39;00m:\n\u001b[0;32m-> 1388\u001b[0m     \u001b[38;5;28;43mself\u001b[39;49m\u001b[38;5;241;43m.\u001b[39;49m\u001b[43m__clear\u001b[49m\u001b[43m(\u001b[49m\u001b[43m)\u001b[49m\n",
      "File \u001b[0;32m~/Github-Repositories/explainable-methods-in-exercise-analysis/.env/lib/python3.11/site-packages/matplotlib/axes/_base.py:1271\u001b[0m, in \u001b[0;36m_AxesBase.__clear\u001b[0;34m(self)\u001b[0m\n\u001b[1;32m   1268\u001b[0m yaxis_visible \u001b[38;5;241m=\u001b[39m \u001b[38;5;28mself\u001b[39m\u001b[38;5;241m.\u001b[39myaxis\u001b[38;5;241m.\u001b[39mget_visible()\n\u001b[1;32m   1270\u001b[0m \u001b[38;5;28;01mfor\u001b[39;00m axis \u001b[38;5;129;01min\u001b[39;00m \u001b[38;5;28mself\u001b[39m\u001b[38;5;241m.\u001b[39m_axis_map\u001b[38;5;241m.\u001b[39mvalues():\n\u001b[0;32m-> 1271\u001b[0m     \u001b[43maxis\u001b[49m\u001b[38;5;241;43m.\u001b[39;49m\u001b[43mclear\u001b[49m\u001b[43m(\u001b[49m\u001b[43m)\u001b[49m  \u001b[38;5;66;03m# Also resets the scale to linear.\u001b[39;00m\n\u001b[1;32m   1272\u001b[0m \u001b[38;5;28;01mfor\u001b[39;00m spine \u001b[38;5;129;01min\u001b[39;00m \u001b[38;5;28mself\u001b[39m\u001b[38;5;241m.\u001b[39mspines\u001b[38;5;241m.\u001b[39mvalues():\n\u001b[1;32m   1273\u001b[0m     spine\u001b[38;5;241m.\u001b[39m_clear()  \u001b[38;5;66;03m# Use _clear to not clear Axis again\u001b[39;00m\n",
      "File \u001b[0;32m~/Github-Repositories/explainable-methods-in-exercise-analysis/.env/lib/python3.11/site-packages/matplotlib/axis.py:918\u001b[0m, in \u001b[0;36mAxis.clear\u001b[0;34m(self)\u001b[0m\n\u001b[1;32m    912\u001b[0m \u001b[38;5;28mself\u001b[39m\u001b[38;5;241m.\u001b[39m_major_tick_kw[\u001b[38;5;124m'\u001b[39m\u001b[38;5;124mgridOn\u001b[39m\u001b[38;5;124m'\u001b[39m] \u001b[38;5;241m=\u001b[39m (\n\u001b[1;32m    913\u001b[0m         mpl\u001b[38;5;241m.\u001b[39mrcParams[\u001b[38;5;124m'\u001b[39m\u001b[38;5;124maxes.grid\u001b[39m\u001b[38;5;124m'\u001b[39m] \u001b[38;5;129;01mand\u001b[39;00m\n\u001b[1;32m    914\u001b[0m         mpl\u001b[38;5;241m.\u001b[39mrcParams[\u001b[38;5;124m'\u001b[39m\u001b[38;5;124maxes.grid.which\u001b[39m\u001b[38;5;124m'\u001b[39m] \u001b[38;5;129;01min\u001b[39;00m (\u001b[38;5;124m'\u001b[39m\u001b[38;5;124mboth\u001b[39m\u001b[38;5;124m'\u001b[39m, \u001b[38;5;124m'\u001b[39m\u001b[38;5;124mmajor\u001b[39m\u001b[38;5;124m'\u001b[39m))\n\u001b[1;32m    915\u001b[0m \u001b[38;5;28mself\u001b[39m\u001b[38;5;241m.\u001b[39m_minor_tick_kw[\u001b[38;5;124m'\u001b[39m\u001b[38;5;124mgridOn\u001b[39m\u001b[38;5;124m'\u001b[39m] \u001b[38;5;241m=\u001b[39m (\n\u001b[1;32m    916\u001b[0m         mpl\u001b[38;5;241m.\u001b[39mrcParams[\u001b[38;5;124m'\u001b[39m\u001b[38;5;124maxes.grid\u001b[39m\u001b[38;5;124m'\u001b[39m] \u001b[38;5;129;01mand\u001b[39;00m\n\u001b[1;32m    917\u001b[0m         mpl\u001b[38;5;241m.\u001b[39mrcParams[\u001b[38;5;124m'\u001b[39m\u001b[38;5;124maxes.grid.which\u001b[39m\u001b[38;5;124m'\u001b[39m] \u001b[38;5;129;01min\u001b[39;00m (\u001b[38;5;124m'\u001b[39m\u001b[38;5;124mboth\u001b[39m\u001b[38;5;124m'\u001b[39m, \u001b[38;5;124m'\u001b[39m\u001b[38;5;124mminor\u001b[39m\u001b[38;5;124m'\u001b[39m))\n\u001b[0;32m--> 918\u001b[0m \u001b[38;5;28;43mself\u001b[39;49m\u001b[38;5;241;43m.\u001b[39;49m\u001b[43mreset_ticks\u001b[49m\u001b[43m(\u001b[49m\u001b[43m)\u001b[49m\n\u001b[1;32m    920\u001b[0m \u001b[38;5;28mself\u001b[39m\u001b[38;5;241m.\u001b[39mconverter \u001b[38;5;241m=\u001b[39m \u001b[38;5;28;01mNone\u001b[39;00m\n\u001b[1;32m    921\u001b[0m \u001b[38;5;28mself\u001b[39m\u001b[38;5;241m.\u001b[39munits \u001b[38;5;241m=\u001b[39m \u001b[38;5;28;01mNone\u001b[39;00m\n",
      "File \u001b[0;32m~/Github-Repositories/explainable-methods-in-exercise-analysis/.env/lib/python3.11/site-packages/matplotlib/axis.py:940\u001b[0m, in \u001b[0;36mAxis.reset_ticks\u001b[0;34m(self)\u001b[0m\n\u001b[1;32m    938\u001b[0m     \u001b[38;5;28;01mpass\u001b[39;00m\n\u001b[1;32m    939\u001b[0m \u001b[38;5;28;01mtry\u001b[39;00m:\n\u001b[0;32m--> 940\u001b[0m     \u001b[38;5;28;43mself\u001b[39;49m\u001b[38;5;241;43m.\u001b[39;49m\u001b[43mset_clip_path\u001b[49m\u001b[43m(\u001b[49m\u001b[38;5;28;43mself\u001b[39;49m\u001b[38;5;241;43m.\u001b[39;49m\u001b[43maxes\u001b[49m\u001b[38;5;241;43m.\u001b[39;49m\u001b[43mpatch\u001b[49m\u001b[43m)\u001b[49m\n\u001b[1;32m    941\u001b[0m \u001b[38;5;28;01mexcept\u001b[39;00m \u001b[38;5;167;01mAttributeError\u001b[39;00m:\n\u001b[1;32m    942\u001b[0m     \u001b[38;5;28;01mpass\u001b[39;00m\n",
      "File \u001b[0;32m~/Github-Repositories/explainable-methods-in-exercise-analysis/.env/lib/python3.11/site-packages/matplotlib/_api/deprecation.py:297\u001b[0m, in \u001b[0;36mrename_parameter.<locals>.wrapper\u001b[0;34m(*args, **kwargs)\u001b[0m\n\u001b[1;32m    292\u001b[0m     warn_deprecated(\n\u001b[1;32m    293\u001b[0m         since, message\u001b[38;5;241m=\u001b[39m\u001b[38;5;124mf\u001b[39m\u001b[38;5;124m\"\u001b[39m\u001b[38;5;124mThe \u001b[39m\u001b[38;5;132;01m{\u001b[39;00mold\u001b[38;5;132;01m!r}\u001b[39;00m\u001b[38;5;124m parameter of \u001b[39m\u001b[38;5;132;01m{\u001b[39;00mfunc\u001b[38;5;241m.\u001b[39m\u001b[38;5;18m__name__\u001b[39m\u001b[38;5;132;01m}\u001b[39;00m\u001b[38;5;124m() \u001b[39m\u001b[38;5;124m\"\u001b[39m\n\u001b[1;32m    294\u001b[0m         \u001b[38;5;124mf\u001b[39m\u001b[38;5;124m\"\u001b[39m\u001b[38;5;124mhas been renamed \u001b[39m\u001b[38;5;132;01m{\u001b[39;00mnew\u001b[38;5;132;01m!r}\u001b[39;00m\u001b[38;5;124m since Matplotlib \u001b[39m\u001b[38;5;132;01m{\u001b[39;00msince\u001b[38;5;132;01m}\u001b[39;00m\u001b[38;5;124m; support \u001b[39m\u001b[38;5;124m\"\u001b[39m\n\u001b[1;32m    295\u001b[0m         \u001b[38;5;124mf\u001b[39m\u001b[38;5;124m\"\u001b[39m\u001b[38;5;124mfor the old name will be dropped %(removal)s.\u001b[39m\u001b[38;5;124m\"\u001b[39m)\n\u001b[1;32m    296\u001b[0m     kwargs[new] \u001b[38;5;241m=\u001b[39m kwargs\u001b[38;5;241m.\u001b[39mpop(old)\n\u001b[0;32m--> 297\u001b[0m \u001b[38;5;28;01mreturn\u001b[39;00m \u001b[43mfunc\u001b[49m\u001b[43m(\u001b[49m\u001b[38;5;241;43m*\u001b[39;49m\u001b[43margs\u001b[49m\u001b[43m,\u001b[49m\u001b[43m \u001b[49m\u001b[38;5;241;43m*\u001b[39;49m\u001b[38;5;241;43m*\u001b[39;49m\u001b[43mkwargs\u001b[49m\u001b[43m)\u001b[49m\n",
      "File \u001b[0;32m~/Github-Repositories/explainable-methods-in-exercise-analysis/.env/lib/python3.11/site-packages/matplotlib/axis.py:1111\u001b[0m, in \u001b[0;36mAxis.set_clip_path\u001b[0;34m(self, path, transform)\u001b[0m\n\u001b[1;32m   1108\u001b[0m \u001b[38;5;129m@_api\u001b[39m\u001b[38;5;241m.\u001b[39mrename_parameter(\u001b[38;5;124m\"\u001b[39m\u001b[38;5;124m3.8\u001b[39m\u001b[38;5;124m\"\u001b[39m, \u001b[38;5;124m\"\u001b[39m\u001b[38;5;124mclippath\u001b[39m\u001b[38;5;124m\"\u001b[39m, \u001b[38;5;124m\"\u001b[39m\u001b[38;5;124mpath\u001b[39m\u001b[38;5;124m\"\u001b[39m)\n\u001b[1;32m   1109\u001b[0m \u001b[38;5;28;01mdef\u001b[39;00m \u001b[38;5;21mset_clip_path\u001b[39m(\u001b[38;5;28mself\u001b[39m, path, transform\u001b[38;5;241m=\u001b[39m\u001b[38;5;28;01mNone\u001b[39;00m):\n\u001b[1;32m   1110\u001b[0m     \u001b[38;5;28msuper\u001b[39m()\u001b[38;5;241m.\u001b[39mset_clip_path(path, transform)\n\u001b[0;32m-> 1111\u001b[0m     \u001b[38;5;28;01mfor\u001b[39;00m child \u001b[38;5;129;01min\u001b[39;00m \u001b[38;5;28;43mself\u001b[39;49m\u001b[38;5;241;43m.\u001b[39;49m\u001b[43mmajorTicks\u001b[49m \u001b[38;5;241m+\u001b[39m \u001b[38;5;28mself\u001b[39m\u001b[38;5;241m.\u001b[39mminorTicks:\n\u001b[1;32m   1112\u001b[0m         child\u001b[38;5;241m.\u001b[39mset_clip_path(path, transform)\n\u001b[1;32m   1113\u001b[0m     \u001b[38;5;28mself\u001b[39m\u001b[38;5;241m.\u001b[39mstale \u001b[38;5;241m=\u001b[39m \u001b[38;5;28;01mTrue\u001b[39;00m\n",
      "File \u001b[0;32m~/Github-Repositories/explainable-methods-in-exercise-analysis/.env/lib/python3.11/site-packages/matplotlib/axis.py:586\u001b[0m, in \u001b[0;36m_LazyTickList.__get__\u001b[0;34m(self, instance, owner)\u001b[0m\n\u001b[1;32m    584\u001b[0m \u001b[38;5;28;01mif\u001b[39;00m \u001b[38;5;28mself\u001b[39m\u001b[38;5;241m.\u001b[39m_major:\n\u001b[1;32m    585\u001b[0m     instance\u001b[38;5;241m.\u001b[39mmajorTicks \u001b[38;5;241m=\u001b[39m []\n\u001b[0;32m--> 586\u001b[0m     tick \u001b[38;5;241m=\u001b[39m \u001b[43minstance\u001b[49m\u001b[38;5;241;43m.\u001b[39;49m\u001b[43m_get_tick\u001b[49m\u001b[43m(\u001b[49m\u001b[43mmajor\u001b[49m\u001b[38;5;241;43m=\u001b[39;49m\u001b[38;5;28;43;01mTrue\u001b[39;49;00m\u001b[43m)\u001b[49m\n\u001b[1;32m    587\u001b[0m     instance\u001b[38;5;241m.\u001b[39mmajorTicks\u001b[38;5;241m.\u001b[39mappend(tick)\n\u001b[1;32m    588\u001b[0m     \u001b[38;5;28;01mreturn\u001b[39;00m instance\u001b[38;5;241m.\u001b[39mmajorTicks\n",
      "File \u001b[0;32m~/Github-Repositories/explainable-methods-in-exercise-analysis/.env/lib/python3.11/site-packages/matplotlib/axis.py:1562\u001b[0m, in \u001b[0;36mAxis._get_tick\u001b[0;34m(self, major)\u001b[0m\n\u001b[1;32m   1558\u001b[0m     \u001b[38;5;28;01mraise\u001b[39;00m \u001b[38;5;167;01mNotImplementedError\u001b[39;00m(\n\u001b[1;32m   1559\u001b[0m         \u001b[38;5;124mf\u001b[39m\u001b[38;5;124m\"\u001b[39m\u001b[38;5;124mThe Axis subclass \u001b[39m\u001b[38;5;132;01m{\u001b[39;00m\u001b[38;5;28mself\u001b[39m\u001b[38;5;241m.\u001b[39m\u001b[38;5;18m__class__\u001b[39m\u001b[38;5;241m.\u001b[39m\u001b[38;5;18m__name__\u001b[39m\u001b[38;5;132;01m}\u001b[39;00m\u001b[38;5;124m must define \u001b[39m\u001b[38;5;124m\"\u001b[39m\n\u001b[1;32m   1560\u001b[0m         \u001b[38;5;124m\"\u001b[39m\u001b[38;5;124m_tick_class or reimplement _get_tick()\u001b[39m\u001b[38;5;124m\"\u001b[39m)\n\u001b[1;32m   1561\u001b[0m tick_kw \u001b[38;5;241m=\u001b[39m \u001b[38;5;28mself\u001b[39m\u001b[38;5;241m.\u001b[39m_major_tick_kw \u001b[38;5;28;01mif\u001b[39;00m major \u001b[38;5;28;01melse\u001b[39;00m \u001b[38;5;28mself\u001b[39m\u001b[38;5;241m.\u001b[39m_minor_tick_kw\n\u001b[0;32m-> 1562\u001b[0m \u001b[38;5;28;01mreturn\u001b[39;00m \u001b[38;5;28;43mself\u001b[39;49m\u001b[38;5;241;43m.\u001b[39;49m\u001b[43m_tick_class\u001b[49m\u001b[43m(\u001b[49m\u001b[38;5;28;43mself\u001b[39;49m\u001b[38;5;241;43m.\u001b[39;49m\u001b[43maxes\u001b[49m\u001b[43m,\u001b[49m\u001b[43m \u001b[49m\u001b[38;5;241;43m0\u001b[39;49m\u001b[43m,\u001b[49m\u001b[43m \u001b[49m\u001b[43mmajor\u001b[49m\u001b[38;5;241;43m=\u001b[39;49m\u001b[43mmajor\u001b[49m\u001b[43m,\u001b[49m\u001b[43m \u001b[49m\u001b[38;5;241;43m*\u001b[39;49m\u001b[38;5;241;43m*\u001b[39;49m\u001b[43mtick_kw\u001b[49m\u001b[43m)\u001b[49m\n",
      "File \u001b[0;32m~/Github-Repositories/explainable-methods-in-exercise-analysis/.env/lib/python3.11/site-packages/matplotlib/axis.py:413\u001b[0m, in \u001b[0;36mXTick.__init__\u001b[0;34m(self, *args, **kwargs)\u001b[0m\n\u001b[1;32m    412\u001b[0m \u001b[38;5;28;01mdef\u001b[39;00m \u001b[38;5;21m__init__\u001b[39m(\u001b[38;5;28mself\u001b[39m, \u001b[38;5;241m*\u001b[39margs, \u001b[38;5;241m*\u001b[39m\u001b[38;5;241m*\u001b[39mkwargs):\n\u001b[0;32m--> 413\u001b[0m     \u001b[38;5;28;43msuper\u001b[39;49m\u001b[43m(\u001b[49m\u001b[43m)\u001b[49m\u001b[38;5;241;43m.\u001b[39;49m\u001b[38;5;21;43m__init__\u001b[39;49m\u001b[43m(\u001b[49m\u001b[38;5;241;43m*\u001b[39;49m\u001b[43margs\u001b[49m\u001b[43m,\u001b[49m\u001b[43m \u001b[49m\u001b[38;5;241;43m*\u001b[39;49m\u001b[38;5;241;43m*\u001b[39;49m\u001b[43mkwargs\u001b[49m\u001b[43m)\u001b[49m\n\u001b[1;32m    414\u001b[0m     \u001b[38;5;66;03m# x in data coords, y in axes coords\u001b[39;00m\n\u001b[1;32m    415\u001b[0m     ax \u001b[38;5;241m=\u001b[39m \u001b[38;5;28mself\u001b[39m\u001b[38;5;241m.\u001b[39maxes\n",
      "File \u001b[0;32m~/Github-Repositories/explainable-methods-in-exercise-analysis/.env/lib/python3.11/site-packages/matplotlib/axis.py:160\u001b[0m, in \u001b[0;36mTick.__init__\u001b[0;34m(self, axes, loc, size, width, color, tickdir, pad, labelsize, labelcolor, labelfontfamily, zorder, gridOn, tick1On, tick2On, label1On, label2On, major, labelrotation, grid_color, grid_linestyle, grid_linewidth, grid_alpha, **kwargs)\u001b[0m\n\u001b[1;32m    157\u001b[0m     grid_alpha \u001b[38;5;241m=\u001b[39m mpl\u001b[38;5;241m.\u001b[39mrcParams[\u001b[38;5;124m\"\u001b[39m\u001b[38;5;124mgrid.alpha\u001b[39m\u001b[38;5;124m\"\u001b[39m]\n\u001b[1;32m    158\u001b[0m grid_kw \u001b[38;5;241m=\u001b[39m {k[\u001b[38;5;241m5\u001b[39m:]: v \u001b[38;5;28;01mfor\u001b[39;00m k, v \u001b[38;5;129;01min\u001b[39;00m kwargs\u001b[38;5;241m.\u001b[39mitems()}\n\u001b[0;32m--> 160\u001b[0m \u001b[38;5;28mself\u001b[39m\u001b[38;5;241m.\u001b[39mtick1line \u001b[38;5;241m=\u001b[39m \u001b[43mmlines\u001b[49m\u001b[38;5;241;43m.\u001b[39;49m\u001b[43mLine2D\u001b[49m\u001b[43m(\u001b[49m\n\u001b[1;32m    161\u001b[0m \u001b[43m    \u001b[49m\u001b[43m[\u001b[49m\u001b[43m]\u001b[49m\u001b[43m,\u001b[49m\u001b[43m \u001b[49m\u001b[43m[\u001b[49m\u001b[43m]\u001b[49m\u001b[43m,\u001b[49m\n\u001b[1;32m    162\u001b[0m \u001b[43m    \u001b[49m\u001b[43mcolor\u001b[49m\u001b[38;5;241;43m=\u001b[39;49m\u001b[43mcolor\u001b[49m\u001b[43m,\u001b[49m\u001b[43m \u001b[49m\u001b[43mlinestyle\u001b[49m\u001b[38;5;241;43m=\u001b[39;49m\u001b[38;5;124;43m\"\u001b[39;49m\u001b[38;5;124;43mnone\u001b[39;49m\u001b[38;5;124;43m\"\u001b[39;49m\u001b[43m,\u001b[49m\u001b[43m \u001b[49m\u001b[43mzorder\u001b[49m\u001b[38;5;241;43m=\u001b[39;49m\u001b[43mzorder\u001b[49m\u001b[43m,\u001b[49m\u001b[43m \u001b[49m\u001b[43mvisible\u001b[49m\u001b[38;5;241;43m=\u001b[39;49m\u001b[43mtick1On\u001b[49m\u001b[43m,\u001b[49m\n\u001b[1;32m    163\u001b[0m \u001b[43m    \u001b[49m\u001b[43mmarkeredgecolor\u001b[49m\u001b[38;5;241;43m=\u001b[39;49m\u001b[43mcolor\u001b[49m\u001b[43m,\u001b[49m\u001b[43m \u001b[49m\u001b[43mmarkersize\u001b[49m\u001b[38;5;241;43m=\u001b[39;49m\u001b[43msize\u001b[49m\u001b[43m,\u001b[49m\u001b[43m \u001b[49m\u001b[43mmarkeredgewidth\u001b[49m\u001b[38;5;241;43m=\u001b[39;49m\u001b[43mwidth\u001b[49m\u001b[43m,\u001b[49m\n\u001b[1;32m    164\u001b[0m \u001b[43m\u001b[49m\u001b[43m)\u001b[49m\n\u001b[1;32m    165\u001b[0m \u001b[38;5;28mself\u001b[39m\u001b[38;5;241m.\u001b[39mtick2line \u001b[38;5;241m=\u001b[39m mlines\u001b[38;5;241m.\u001b[39mLine2D(\n\u001b[1;32m    166\u001b[0m     [], [],\n\u001b[1;32m    167\u001b[0m     color\u001b[38;5;241m=\u001b[39mcolor, linestyle\u001b[38;5;241m=\u001b[39m\u001b[38;5;124m\"\u001b[39m\u001b[38;5;124mnone\u001b[39m\u001b[38;5;124m\"\u001b[39m, zorder\u001b[38;5;241m=\u001b[39mzorder, visible\u001b[38;5;241m=\u001b[39mtick2On,\n\u001b[1;32m    168\u001b[0m     markeredgecolor\u001b[38;5;241m=\u001b[39mcolor, markersize\u001b[38;5;241m=\u001b[39msize, markeredgewidth\u001b[38;5;241m=\u001b[39mwidth,\n\u001b[1;32m    169\u001b[0m )\n\u001b[1;32m    170\u001b[0m \u001b[38;5;28mself\u001b[39m\u001b[38;5;241m.\u001b[39mgridline \u001b[38;5;241m=\u001b[39m mlines\u001b[38;5;241m.\u001b[39mLine2D(\n\u001b[1;32m    171\u001b[0m     [], [],\n\u001b[1;32m    172\u001b[0m     color\u001b[38;5;241m=\u001b[39mgrid_color, alpha\u001b[38;5;241m=\u001b[39mgrid_alpha, visible\u001b[38;5;241m=\u001b[39mgridOn,\n\u001b[1;32m    173\u001b[0m     linestyle\u001b[38;5;241m=\u001b[39mgrid_linestyle, linewidth\u001b[38;5;241m=\u001b[39mgrid_linewidth, marker\u001b[38;5;241m=\u001b[39m\u001b[38;5;124m\"\u001b[39m\u001b[38;5;124m\"\u001b[39m,\n\u001b[1;32m    174\u001b[0m     \u001b[38;5;241m*\u001b[39m\u001b[38;5;241m*\u001b[39mgrid_kw,\n\u001b[1;32m    175\u001b[0m )\n",
      "File \u001b[0;32m~/Github-Repositories/explainable-methods-in-exercise-analysis/.env/lib/python3.11/site-packages/matplotlib/lines.py:373\u001b[0m, in \u001b[0;36mLine2D.__init__\u001b[0;34m(self, xdata, ydata, linewidth, linestyle, color, gapcolor, marker, markersize, markeredgewidth, markeredgecolor, markerfacecolor, markerfacecoloralt, fillstyle, antialiased, dash_capstyle, solid_capstyle, dash_joinstyle, solid_joinstyle, pickradius, drawstyle, markevery, **kwargs)\u001b[0m\n\u001b[1;32m    371\u001b[0m \u001b[38;5;28mself\u001b[39m\u001b[38;5;241m.\u001b[39mset_linewidth(linewidth)\n\u001b[1;32m    372\u001b[0m \u001b[38;5;28mself\u001b[39m\u001b[38;5;241m.\u001b[39mset_linestyle(linestyle)\n\u001b[0;32m--> 373\u001b[0m \u001b[38;5;28;43mself\u001b[39;49m\u001b[38;5;241;43m.\u001b[39;49m\u001b[43mset_drawstyle\u001b[49m\u001b[43m(\u001b[49m\u001b[43mdrawstyle\u001b[49m\u001b[43m)\u001b[49m\n\u001b[1;32m    375\u001b[0m \u001b[38;5;28mself\u001b[39m\u001b[38;5;241m.\u001b[39m_color \u001b[38;5;241m=\u001b[39m \u001b[38;5;28;01mNone\u001b[39;00m\n\u001b[1;32m    376\u001b[0m \u001b[38;5;28mself\u001b[39m\u001b[38;5;241m.\u001b[39mset_color(color)\n",
      "File \u001b[0;32m~/Github-Repositories/explainable-methods-in-exercise-analysis/.env/lib/python3.11/site-packages/matplotlib/lines.py:1065\u001b[0m, in \u001b[0;36mLine2D.set_drawstyle\u001b[0;34m(self, drawstyle)\u001b[0m\n\u001b[1;32m   1062\u001b[0m     \u001b[38;5;28mself\u001b[39m\u001b[38;5;241m.\u001b[39m_color \u001b[38;5;241m=\u001b[39m color\n\u001b[1;32m   1063\u001b[0m     \u001b[38;5;28mself\u001b[39m\u001b[38;5;241m.\u001b[39mstale \u001b[38;5;241m=\u001b[39m \u001b[38;5;28;01mTrue\u001b[39;00m\n\u001b[0;32m-> 1065\u001b[0m \u001b[38;5;28;01mdef\u001b[39;00m \u001b[38;5;21mset_drawstyle\u001b[39m(\u001b[38;5;28mself\u001b[39m, drawstyle):\n\u001b[1;32m   1066\u001b[0m \u001b[38;5;250m    \u001b[39m\u001b[38;5;124;03m\"\"\"\u001b[39;00m\n\u001b[1;32m   1067\u001b[0m \u001b[38;5;124;03m    Set the drawstyle of the plot.\u001b[39;00m\n\u001b[1;32m   1068\u001b[0m \n\u001b[0;32m   (...)\u001b[0m\n\u001b[1;32m   1089\u001b[0m \u001b[38;5;124;03m        For examples see :doc:`/gallery/lines_bars_and_markers/step_demo`.\u001b[39;00m\n\u001b[1;32m   1090\u001b[0m \u001b[38;5;124;03m    \"\"\"\u001b[39;00m\n\u001b[1;32m   1091\u001b[0m     \u001b[38;5;28;01mif\u001b[39;00m drawstyle \u001b[38;5;129;01mis\u001b[39;00m \u001b[38;5;28;01mNone\u001b[39;00m:\n",
      "\u001b[0;31mKeyboardInterrupt\u001b[0m: "
     ]
    },
    {
     "data": {
      "image/png": "[encoded data removed]",
      "text/plain": [
       "<Figure size 640x480 with 1 Axes>"
      ]
     },
     "metadata": {},
     "output_type": "display_data"
    }
   ],
   "source": [
    "import matplotlib.animation as animation\n",
    "from IPython.display import HTML\n",
    "\n",
    "\n",
    "def get_3D_animation(data):\n",
    "    fig = plt.figure()\n",
    "    ax = fig.add_subplot(111, projection=\"3d\")\n",
    "\n",
    "    def update(i):\n",
    "        ax.clear()\n",
    "        ax.set_xlim3d(*X_LIM)\n",
    "        ax.set_ylim3d(*Y_LIM)\n",
    "        ax.set_zlim3d(*Z_LIM)\n",
    "        ax.view_init(elev=ELEV, azim=AZIM)\n",
    "\n",
    "        frame_data = data[data[\"frame\"] == i]\n",
    "        ax.scatter3D(frame_data[\"x\"], frame_data[\"y\"], frame_data[\"z\"])\n",
    "        frame_data = frame_data.reset_index()\n",
    "\n",
    "        for start, stop in openpose_connections:\n",
    "            ax.plot(\n",
    "                xs=[frame_data.loc[start][\"x\"], frame_data.loc[stop][\"x\"]],\n",
    "                ys=[frame_data.loc[start][\"y\"], frame_data.loc[stop][\"y\"]],\n",
    "                zs=[frame_data.loc[start][\"z\"], frame_data.loc[stop][\"z\"]],\n",
    "            )\n",
    "\n",
    "    return animation.FuncAnimation(\n",
    "        fig, update, frames=pd.unique(data[\"frame\"]), interval=120\n",
    "    )\n",
    "\n",
    "\n",
    "ani = get_3D_animation(correct_squat_1_rep_df)\n",
    "HTML(ani.to_jshtml())"
   ]
  }
 ],
 "metadata": {
  "kernelspec": {
   "display_name": ".env",
   "language": "python",
   "name": "python3"
  },
  "language_info": {
   "codemirror_mode": {
    "name": "ipython",
    "version": 3
   },
   "file_extension": ".py",
   "mimetype": "text/x-python",
   "name": "python",
   "nbconvert_exporter": "python",
   "pygments_lexer": "ipython3",
   "version": "3.11.3"
  }
 },
 "nbformat": 4,
 "nbformat_minor": 2
}
