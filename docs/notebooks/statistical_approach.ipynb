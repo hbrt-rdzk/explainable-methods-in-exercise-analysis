{
 "cells": [
  {
   "cell_type": "code",
   "execution_count": null,
   "metadata": {},
   "outputs": [],
   "source": [
    "import pandas as pd\n",
    "import matplotlib.pyplot as plt\n",
    "import numpy as np\n",
    "import sys\n",
    "\n",
    "sys.path.append(\"../..\")\n",
    "from src.utils.constants import OPENPOSE_ANGLES"
   ]
  },
  {
   "cell_type": "code",
   "execution_count": null,
   "metadata": {},
   "outputs": [],
   "source": [
    "import warnings\n",
    "\n",
    "warnings.filterwarnings(\"ignore\", category=FutureWarning, message=\".*\")"
   ]
  },
  {
   "cell_type": "code",
   "execution_count": null,
   "metadata": {},
   "outputs": [],
   "source": [
    "joints_squat_test_df = pd.read_csv(\"../../data/test/squat/joints.csv\")\n",
    "joints_squat_train_df = pd.read_csv(\"../../data/train/squat/joints.csv\")\n",
    "\n",
    "joints_df = pd.concat([joints_squat_train_df, joints_squat_test_df])"
   ]
  },
  {
   "cell_type": "code",
   "execution_count": null,
   "metadata": {},
   "outputs": [],
   "source": [
    "for _, rep in joints_df.groupby([\"label\", \"rep\"]):\n",
    "    rep = rep.reset_index()\n",
    "    if rep[\"label\"].loc[0] == \"correct\":\n",
    "        correct = rep\n",
    "    else:\n",
    "        incorrect = rep"
   ]
  },
  {
   "cell_type": "code",
   "execution_count": null,
   "metadata": {},
   "outputs": [],
   "source": [
    "from src.utils.data import joints_rep_df_to_numpy, get_angles_from_joints\n",
    "\n",
    "\n",
    "correct_joints = joints_rep_df_to_numpy(correct)\n",
    "correct_angles = get_angles_from_joints(correct_joints, OPENPOSE_ANGLES)\n",
    "\n",
    "incorrect_joints = joints_rep_df_to_numpy(incorrect)\n",
    "incorrect_angles = get_angles_from_joints(incorrect_joints, OPENPOSE_ANGLES)"
   ]
  },
  {
   "cell_type": "code",
   "execution_count": null,
   "metadata": {},
   "outputs": [],
   "source": [
    "fig, axes = plt.subplots(nrows=1, ncols=2, figsize=(14, 5))\n",
    "axes[0].plot(correct_angles.values)\n",
    "axes[1].plot(incorrect_angles.values);"
   ]
  },
  {
   "cell_type": "code",
   "execution_count": null,
   "metadata": {},
   "outputs": [],
   "source": [
    "rep_signal = correct_angles.mean(axis=1)\n",
    "zero_point = np.mean(rep_signal)"
   ]
  },
  {
   "cell_type": "code",
   "execution_count": null,
   "metadata": {},
   "outputs": [],
   "source": [
    "def segment_signal(\n",
    "    x: pd.DataFrame, important_angles: list[str], sliding_window_size: int = 5\n",
    ") -> pd.DataFrame:\n",
    "    x = x[important_angles]\n",
    "    rep_signal = x.mean(axis=1)\n",
    "    zero_point = np.mean(rep_signal)\n",
    "\n",
    "    variances = []\n",
    "    for idx in range(0, len(rep_signal) - sliding_window_size + 1, 1):\n",
    "        window = rep_signal[idx : idx + sliding_window_size]\n",
    "        variances.append(np.std(window))\n",
    "    variances = np.array(variances)\n",
    "\n",
    "    below_mean_indexes = np.where(rep_signal < zero_point)[0]\n",
    "    above_mean_indexes = np.where(rep_signal > zero_point)[0]\n",
    "\n",
    "    mid_phase_idx = (\n",
    "        below_mean_indexes[np.argmin(variances[below_mean_indexes])]\n",
    "        + sliding_window_size // 2\n",
    "    )\n",
    "    above_mean_indexes_left = above_mean_indexes[above_mean_indexes < mid_phase_idx]\n",
    "    start_phase_idx = (\n",
    "        above_mean_indexes_left[np.argmin(variances[above_mean_indexes_left])]\n",
    "        + sliding_window_size // 2\n",
    "    )\n",
    "\n",
    "    above_mean_indexes_right = above_mean_indexes[above_mean_indexes > mid_phase_idx]\n",
    "    above_mean_indexes_right = above_mean_indexes_right[\n",
    "        above_mean_indexes_right < len(variances)\n",
    "    ]\n",
    "    finish_phase_idx = (\n",
    "        above_mean_indexes_right[np.argmin(variances[above_mean_indexes_right])]\n",
    "        + sliding_window_size // 2\n",
    "    )\n",
    "    return x.iloc[[start_phase_idx, mid_phase_idx, finish_phase_idx]]"
   ]
  },
  {
   "cell_type": "code",
   "execution_count": null,
   "metadata": {},
   "outputs": [],
   "source": [
    "import yaml\n",
    "\n",
    "with open(f\"../../configs/squat.yaml\", \"r\") as file:\n",
    "    file_data = yaml.safe_load(file)\n",
    "    important_angles = file_data[\"important_angles\"]\n",
    "    reference_table = pd.DataFrame(file_data[\"reference_table\"]).transpose()"
   ]
  },
  {
   "cell_type": "code",
   "execution_count": null,
   "metadata": {},
   "outputs": [],
   "source": [
    "phases_names = reference_table.index.values"
   ]
  },
  {
   "cell_type": "code",
   "execution_count": null,
   "metadata": {},
   "outputs": [],
   "source": [
    "phases = segment_signal(correct_angles, important_angles)"
   ]
  },
  {
   "cell_type": "code",
   "execution_count": null,
   "metadata": {},
   "outputs": [],
   "source": [
    "phases"
   ]
  },
  {
   "cell_type": "code",
   "execution_count": null,
   "metadata": {},
   "outputs": [],
   "source": [
    "reference_table = reference_table.reset_index(drop=True)\n",
    "reference_table"
   ]
  },
  {
   "cell_type": "code",
   "execution_count": null,
   "metadata": {},
   "outputs": [],
   "source": [
    "phases = phases.reset_index(drop=True)\n",
    "phases"
   ]
  },
  {
   "cell_type": "code",
   "execution_count": null,
   "metadata": {},
   "outputs": [],
   "source": [
    "results = reference_table - phases"
   ]
  },
  {
   "cell_type": "code",
   "execution_count": null,
   "metadata": {},
   "outputs": [],
   "source": [
    "results"
   ]
  },
  {
   "cell_type": "code",
   "execution_count": null,
   "metadata": {},
   "outputs": [],
   "source": [
    "results[\"phase\"] = phases_names\n",
    "results = results.set_index(\"phase\")"
   ]
  },
  {
   "cell_type": "code",
   "execution_count": null,
   "metadata": {},
   "outputs": [],
   "source": [
    "results"
   ]
  },
  {
   "cell_type": "code",
   "execution_count": null,
   "metadata": {},
   "outputs": [],
   "source": [
    "from tslearn.metrics import dtw_path\n",
    "\n",
    "reference = correct_angles[\"left_hip\"]\n",
    "query = incorrect_angles[\"left_hip\"]\n",
    "\n",
    "path, score = dtw_path(reference, query)\n",
    "path = np.array(path)"
   ]
  },
  {
   "cell_type": "code",
   "execution_count": null,
   "metadata": {},
   "outputs": [],
   "source": [
    "reference_to_query = path[:, 0]\n",
    "query_to_reference = path[:, 1]"
   ]
  },
  {
   "cell_type": "code",
   "execution_count": null,
   "metadata": {},
   "outputs": [],
   "source": [
    "def filter_repetable_reference_indexes(\n",
    "    referene_to_query: np.ndarray, query_to_refernce: np.ndarray\n",
    ") -> np.ndarray:\n",
    "    query_to_refernce_cp = query_to_refernce.copy()\n",
    "\n",
    "    for idx in range(len(referene_to_query) - 1, -1, -1):\n",
    "        if idx > 0 and referene_to_query[idx] == referene_to_query[idx - 1]:\n",
    "            query_to_refernce_cp = np.delete(query_to_refernce_cp, idx)\n",
    "\n",
    "    return query_to_refernce_cp"
   ]
  },
  {
   "cell_type": "code",
   "execution_count": null,
   "metadata": {},
   "outputs": [],
   "source": [
    "query_to_reference_idx = filter_repetable_reference_indexes(\n",
    "    reference_to_query, query_to_reference\n",
    ")\n",
    "query_to_reference_warped = np.array([query[idx] for idx in query_to_reference_idx])"
   ]
  },
  {
   "cell_type": "code",
   "execution_count": null,
   "metadata": {},
   "outputs": [],
   "source": [
    "plt.plot(reference - query_to_reference_warped)\n",
    "score"
   ]
  },
  {
   "cell_type": "markdown",
   "metadata": {},
   "source": [
    "## statistical classification"
   ]
  },
  {
   "cell_type": "code",
   "execution_count": null,
   "metadata": {},
   "outputs": [],
   "source": [
    "EXERCISES = (\"squat\", \"lunges\", \"plank\")"
   ]
  },
  {
   "cell_type": "code",
   "execution_count": null,
   "metadata": {},
   "outputs": [],
   "source": [
    "train_datasets = {}\n",
    "test_datasets = {}\n",
    "\n",
    "for exercise in EXERCISES:\n",
    "    train_datasets[exercise] = pd.read_csv(f\"../../data/train/{exercise}/angles.csv\")\n",
    "    test_datasets[exercise] = pd.read_csv(f\"../../data/test/{exercise}/angles.csv\")"
   ]
  },
  {
   "cell_type": "code",
   "execution_count": null,
   "metadata": {},
   "outputs": [],
   "source": [
    "reference_tables = {}\n",
    "important_angles = {}\n",
    "\n",
    "for exercise in EXERCISES:\n",
    "    with open(f\"../../configs/{exercise}.yaml\", \"r\") as file:\n",
    "        file_data = yaml.safe_load(file)\n",
    "        important_angles[exercise] = file_data[\"important_angles\"]\n",
    "        reference_tables[exercise] = pd.DataFrame(\n",
    "            file_data[\"reference_table\"]\n",
    "        ).transpose()"
   ]
  },
  {
   "cell_type": "code",
   "execution_count": null,
   "metadata": {},
   "outputs": [],
   "source": [
    "from src.utils.data import segment_signal\n",
    "\n",
    "\n",
    "def statistical_classification(\n",
    "    query_angles: pd.DataFrame,\n",
    "    reference_angles: pd.DataFrame,\n",
    "    important_angles: dict,\n",
    "    threshold: float = 20.0,\n",
    ") -> bool:\n",
    "    phases_names = reference_angles.index.values\n",
    "    query_angles = query_angles.reset_index(drop=True)\n",
    "\n",
    "    if len(phases_names) > 1:\n",
    "        phases = segment_signal(query_angles, important_angles)\n",
    "    else:\n",
    "        phases = pd.DataFrame(query_angles.loc[len(query_angles) // 2]).transpose()\n",
    "    phases.index = phases_names\n",
    "    results = reference_angles - phases\n",
    "    results[\"phase\"] = phases_names\n",
    "    results = results.set_index(\"phase\")\n",
    "\n",
    "    for _, result in results.iterrows():\n",
    "        wrong_angles = result.loc[result.abs() > threshold]\n",
    "        if not wrong_angles.empty:\n",
    "            return False\n",
    "\n",
    "    return True"
   ]
  },
  {
   "cell_type": "code",
   "execution_count": null,
   "metadata": {},
   "outputs": [],
   "source": [
    "classification_results = {exercise: [] for exercise in EXERCISES}\n",
    "y = {exercise: [] for exercise in EXERCISES}\n",
    "\n",
    "for exercise in EXERCISES:\n",
    "    phases_names = reference_tables[exercise].index.values\n",
    "    reference_angles = reference_tables[exercise].reset_index(drop=True)\n",
    "\n",
    "    for (label, rep), df in test_datasets[exercise].groupby([\"label\", \"rep\"]):\n",
    "        y[exercise].append(label)\n",
    "        result = statistical_classification(\n",
    "            df, reference_tables[exercise], important_angles[exercise]\n",
    "        )\n",
    "        classification_results[exercise].append(result)"
   ]
  },
  {
   "cell_type": "code",
   "execution_count": null,
   "metadata": {},
   "outputs": [],
   "source": [
    "for exercise in EXERCISES:\n",
    "    y[exercise] = [1 if label == \"correct\" else 0 for label in y[exercise]]\n",
    "    classification_results[exercise] = [\n",
    "        1 if label else 0 for label in classification_results[exercise]\n",
    "    ]"
   ]
  },
  {
   "cell_type": "code",
   "execution_count": null,
   "metadata": {},
   "outputs": [],
   "source": [
    "_, class_counts = np.unique(y, return_counts=True)\n",
    "class_counts = class_counts / len(y)\n",
    "class_counts"
   ]
  },
  {
   "cell_type": "code",
   "execution_count": null,
   "metadata": {},
   "outputs": [],
   "source": [
    "from sklearn.metrics import classification_report, roc_auc_score\n",
    "\n",
    "for exercise in EXERCISES:\n",
    "    print(\n",
    "        f\"{exercise}: {classification_report(y[exercise], classification_results[exercise])}\"\n",
    "    )"
   ]
  }
 ],
 "metadata": {
  "kernelspec": {
   "display_name": ".env",
   "language": "python",
   "name": "python3"
  },
  "language_info": {
   "codemirror_mode": {
    "name": "ipython",
    "version": 3
   },
   "file_extension": ".py",
   "mimetype": "text/x-python",
   "name": "python",
   "nbconvert_exporter": "python",
   "pygments_lexer": "ipython3",
   "version": "3.11.3"
  }
 },
 "nbformat": 4,
 "nbformat_minor": 2
}
