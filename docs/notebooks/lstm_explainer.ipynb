{
 "cells": [
  {
   "cell_type": "code",
   "execution_count": 1,
   "metadata": {},
   "outputs": [],
   "source": [
    "import pandas as pd\n",
    "import torch\n",
    "import sys\n",
    "import matplotlib.pyplot as plt\n",
    "\n",
    "\n",
    "sys.path.append(\"../../../\")\n",
    "from ae_architectures.lstm import LSTMAutoEncoder\n",
    "from src.dataset import ExerciseDataset"
   ]
  },
  {
   "cell_type": "markdown",
   "metadata": {},
   "source": [
    "## Load data and model"
   ]
  },
  {
   "cell_type": "code",
   "execution_count": 2,
   "metadata": {},
   "outputs": [],
   "source": [
    "NUM_JOINTS = 15\n",
    "SEQUENCE_LENGTH = 25\n",
    "LATENT_SIZE = 256\n",
    "NUM_LAYERS = 2\n",
    "HIDDEN_SIZE = 256"
   ]
  },
  {
   "cell_type": "code",
   "execution_count": 26,
   "metadata": {},
   "outputs": [
    {
     "data": {
      "text/plain": [
       "<All keys matched successfully>"
      ]
     },
     "execution_count": 26,
     "metadata": {},
     "output_type": "execute_result"
    }
   ],
   "source": [
    "dct_lstm_autoencoder = LSTMAutoEncoder(\n",
    "    SEQUENCE_LENGTH, NUM_JOINTS * 3, HIDDEN_SIZE, LATENT_SIZE, NUM_LAYERS\n",
    ")\n",
    "dct_lstm_autoencoder.load_state_dict(\n",
    "    torch.load(\n",
    "        \"../../../models/squat_dct_lstm.pt\", map_location=torch.device(\"cpu\")\n",
    "    )\n",
    ")"
   ]
  },
  {
   "cell_type": "code",
   "execution_count": 27,
   "metadata": {},
   "outputs": [],
   "source": [
    "squat_dct_df = pd.read_csv(\"../../../data/train/dct/squat.csv\")\n",
    "squat_dct_dataset = ExerciseDataset(squat_dct_df, representation=\"dct\")"
   ]
  },
  {
   "cell_type": "markdown",
   "metadata": {},
   "source": [
    "## Generation of the embedded instances"
   ]
  },
  {
   "cell_type": "code",
   "execution_count": 32,
   "metadata": {},
   "outputs": [],
   "source": [
    "from sklearn.preprocessing import LabelEncoder\n",
    "import numpy as np\n",
    "\n",
    "X = torch.stack([rep for rep in squat_dct_dataset.data])\n",
    "y = np.array(\n",
    "    [\n",
    "        1 if label == 0 else 0\n",
    "        for label in squat_dct_dataset.labels_encoded\n",
    "    ]\n",
    ")\n",
    "X_embedded = dct_lstm_autoencoder.encoder(X).detach().numpy()"
   ]
  },
  {
   "cell_type": "code",
   "execution_count": 35,
   "metadata": {},
   "outputs": [],
   "source": [
    "from torch.utils.data import DataLoader\n",
    "\n",
    "train_squat_dct_dl = DataLoader(\n",
    "    squat_dct_dataset,\n",
    "    batch_size=8,\n",
    "    shuffle=True,\n",
    ")"
   ]
  },
  {
   "cell_type": "code",
   "execution_count": 47,
   "metadata": {},
   "outputs": [
    {
     "data": {
      "text/plain": [
       "tensor([[[ 6.3857e-03,  2.6333e-01,  2.0629e+00,  ...,  4.2318e-01,\n",
       "           5.8996e-01, -1.4256e+00],\n",
       "         [ 1.8464e-02,  3.8602e-02, -2.3428e-02,  ..., -9.8149e-03,\n",
       "          -1.9894e-02,  2.9604e-02],\n",
       "         [ 1.0405e-02,  1.2536e-01, -5.6878e-02,  ...,  3.0537e-02,\n",
       "          -4.3346e-01, -6.0154e-01],\n",
       "         ...,\n",
       "         [ 6.0111e-05,  2.7236e-04, -2.8002e-04,  ...,  1.4553e-04,\n",
       "          -4.7243e-04, -5.0759e-05],\n",
       "         [ 1.5804e-04,  7.8071e-05, -1.4549e-04,  ..., -2.5791e-04,\n",
       "          -9.0752e-05,  3.2068e-05],\n",
       "         [-2.0806e-05,  2.8783e-04, -2.7150e-04,  ...,  8.9100e-05,\n",
       "          -5.3893e-04,  1.4465e-05]],\n",
       "\n",
       "        [[ 7.3773e-02,  2.9166e-01,  2.0891e+00,  ...,  7.2945e-01,\n",
       "           3.5415e-01, -1.5261e+00],\n",
       "         [ 5.5269e-02,  3.4588e-02, -2.1599e-02,  ..., -2.4236e-03,\n",
       "          -2.9180e-02, -5.1776e-02],\n",
       "         [ 2.4434e-02,  1.1807e-01, -5.5254e-02,  ..., -1.3656e-02,\n",
       "          -3.3931e-01, -5.4330e-01],\n",
       "         ...,\n",
       "         [ 2.5159e-04,  1.2169e-04, -1.4596e-05,  ..., -3.0390e-04,\n",
       "          -4.1703e-04, -1.1015e-04],\n",
       "         [-4.7009e-04, -4.4816e-05,  6.4460e-05,  ...,  2.6038e-05,\n",
       "           7.1506e-04,  4.3632e-05],\n",
       "         [ 1.1813e-04,  6.4747e-05, -4.0358e-05,  ..., -2.1596e-04,\n",
       "          -2.1491e-04, -2.8674e-05]],\n",
       "\n",
       "        [[ 2.1265e-01,  3.7535e-01,  2.4820e+00,  ...,  6.6370e-01,\n",
       "           1.8784e-01, -1.9931e+00],\n",
       "         [ 1.9814e-01, -1.2375e-02, -3.7504e-02,  ..., -6.9579e-02,\n",
       "          -2.1218e-01, -3.3312e-01],\n",
       "         [ 1.1416e-02,  3.2289e-02, -3.5453e-02,  ..., -4.3109e-02,\n",
       "          -2.0922e-01, -3.9318e-01],\n",
       "         ...,\n",
       "         [-3.1347e-04,  1.3225e-03, -2.6682e-04,  ...,  7.1018e-04,\n",
       "           3.1184e-05, -4.0118e-04],\n",
       "         [-1.7183e-03, -8.1763e-04,  5.7089e-04,  ...,  1.2165e-03,\n",
       "           3.9652e-04,  2.1205e-04],\n",
       "         [-1.0129e-03, -7.8468e-04,  6.8902e-04,  ...,  8.2438e-04,\n",
       "           9.5216e-04,  7.0841e-04]],\n",
       "\n",
       "        ...,\n",
       "\n",
       "        [[ 1.3707e-01,  3.4517e-01,  2.0711e+00,  ...,  5.6716e-01,\n",
       "           4.4223e-01, -1.5346e+00],\n",
       "         [ 1.1654e-02,  4.3280e-03, -7.4529e-03,  ..., -9.7316e-03,\n",
       "          -4.1324e-03,  9.1094e-03],\n",
       "         [ 3.8332e-02,  5.4534e-02, -3.7299e-02,  ..., -9.4310e-03,\n",
       "          -3.4160e-01, -6.1556e-01],\n",
       "         ...,\n",
       "         [ 2.6577e-04,  1.2428e-04, -8.9019e-05,  ..., -3.0778e-05,\n",
       "          -1.0655e-04, -1.0059e-04],\n",
       "         [ 2.7663e-05, -6.2824e-05,  4.8599e-05,  ...,  9.5940e-06,\n",
       "           1.0881e-04,  9.8475e-05],\n",
       "         [ 4.0600e-05,  9.1859e-05, -8.9417e-05,  ..., -2.9722e-05,\n",
       "           8.5297e-06, -2.5358e-05]],\n",
       "\n",
       "        [[ 1.2729e-01,  2.8529e-01,  2.1642e+00,  ...,  5.9698e-01,\n",
       "           4.6428e-01, -1.5382e+00],\n",
       "         [-1.3798e-02,  9.9015e-03, -4.4865e-03,  ..., -3.1261e-03,\n",
       "          -6.0682e-02, -5.8301e-02],\n",
       "         [-1.6563e-03,  5.9881e-02, -2.7893e-02,  ..., -1.7937e-02,\n",
       "          -3.2096e-01, -6.4411e-01],\n",
       "         ...,\n",
       "         [ 1.3909e-04,  2.3129e-04, -1.3177e-04,  ..., -5.4134e-05,\n",
       "          -5.3092e-04, -2.0664e-04],\n",
       "         [ 3.2362e-04, -9.4215e-05,  7.2143e-05,  ..., -2.0074e-04,\n",
       "           8.7911e-04, -3.8384e-04],\n",
       "         [-2.4461e-05,  1.2483e-04, -1.0977e-04,  ...,  1.1005e-04,\n",
       "          -1.9456e-04,  1.9823e-04]],\n",
       "\n",
       "        [[ 1.3629e-01,  2.5725e-01,  2.0747e+00,  ...,  5.9848e-01,\n",
       "           5.0150e-01, -1.4672e+00],\n",
       "         [-1.7052e-02,  1.1298e-02, -2.3661e-03,  ..., -1.3514e-02,\n",
       "          -5.6990e-02, -6.7542e-02],\n",
       "         [ 2.3817e-03,  7.9647e-02, -3.7044e-02,  ..., -3.4327e-02,\n",
       "          -3.4258e-01, -6.0823e-01],\n",
       "         ...,\n",
       "         [ 9.9694e-05, -9.8185e-05, -1.2908e-05,  ..., -9.9775e-05,\n",
       "           2.9353e-04,  8.8124e-05],\n",
       "         [-1.1902e-04, -1.9671e-04,  1.7119e-04,  ..., -1.5666e-04,\n",
       "           5.1326e-04, -1.7964e-04],\n",
       "         [ 1.1133e-04, -2.2032e-05, -1.9290e-05,  ...,  3.5712e-06,\n",
       "           7.5462e-05, -2.9488e-05]]])"
      ]
     },
     "execution_count": 47,
     "metadata": {},
     "output_type": "execute_result"
    }
   ],
   "source": [
    "torch.stack([rep for rep in train_squat_dct_dl.dataset.data])\n"
   ]
  },
  {
   "cell_type": "code",
   "execution_count": 33,
   "metadata": {},
   "outputs": [
    {
     "data": {
      "text/plain": [
       "array([[ 0.10465042, -0.01060601, -0.39248753, ..., -0.11087663,\n",
       "        -0.43728587, -0.03658785],\n",
       "       [ 0.00480048,  0.19550791, -0.0223812 , ...,  0.12411972,\n",
       "        -0.25751737,  0.02883292],\n",
       "       [ 0.06569014, -0.00994423, -0.26969236, ..., -0.15671247,\n",
       "         0.31287187,  0.04209179],\n",
       "       ...,\n",
       "       [-0.0366945 ,  0.006141  , -0.1459345 , ..., -0.03801617,\n",
       "        -0.32263976,  0.03941533],\n",
       "       [-0.00619465,  0.02027   , -0.16029689, ..., -0.04405211,\n",
       "        -0.29289085,  0.07245515],\n",
       "       [ 0.0229802 , -0.01452392, -0.22364971, ..., -0.08497304,\n",
       "        -0.2635757 ,  0.06084841]], dtype=float32)"
      ]
     },
     "execution_count": 33,
     "metadata": {},
     "output_type": "execute_result"
    }
   ],
   "source": [
    "X_embedded"
   ]
  },
  {
   "cell_type": "markdown",
   "metadata": {},
   "source": [
    "## Visualization of the latent space"
   ]
  },
  {
   "cell_type": "code",
   "execution_count": 6,
   "metadata": {},
   "outputs": [
    {
     "name": "stderr",
     "output_type": "stream",
     "text": [
      "/Users/hubert/Github-Repositories/explainable-methods-in-exercise-analysis/.env/lib/python3.11/site-packages/sklearn/manifold/_t_sne.py:800: FutureWarning: The default initialization in TSNE will change from 'random' to 'pca' in 1.2.\n",
      "  warnings.warn(\n",
      "/Users/hubert/Github-Repositories/explainable-methods-in-exercise-analysis/.env/lib/python3.11/site-packages/sklearn/manifold/_t_sne.py:810: FutureWarning: The default learning rate in TSNE will change from 200.0 to 'auto' in 1.2.\n",
      "  warnings.warn(\n"
     ]
    },
    {
     "data": {
      "text/plain": [
       "<matplotlib.legend.Legend at 0x2a859f190>"
      ]
     },
     "execution_count": 6,
     "metadata": {},
     "output_type": "execute_result"
    },
    {
     "data": {
      "image/png": "[encoded data removed]",
      "text/plain": [
       "<Figure size 640x480 with 1 Axes>"
      ]
     },
     "metadata": {},
     "output_type": "display_data"
    }
   ],
   "source": [
    "from sklearn.manifold import TSNE\n",
    "\n",
    "tsne = TSNE(n_components=2)\n",
    "X_embedded_reduced = tsne.fit_transform(X_embedded)\n",
    "plt.scatter(X_embedded_reduced[y == 1][:, 0], X_embedded_reduced[y == 1][:, 1], c=\"green\")\n",
    "plt.scatter(X_embedded_reduced[y == 0][:, 0], X_embedded_reduced[y == 0][:, 1], c=\"red\")\n",
    "\n",
    "plt.legend([\"Correct\", \"Incorrect\"])"
   ]
  },
  {
   "cell_type": "markdown",
   "metadata": {},
   "source": [
    "## Training of the classifier"
   ]
  },
  {
   "cell_type": "code",
   "execution_count": 7,
   "metadata": {},
   "outputs": [],
   "source": [
    "squat_dct_test_df = pd.read_csv(\"../../../data/test/dct/squat.csv\")\n",
    "squat_dct_dataset_test = ExerciseDataset(squat_dct_test_df, representation=\"dct\")"
   ]
  },
  {
   "cell_type": "code",
   "execution_count": 8,
   "metadata": {},
   "outputs": [],
   "source": [
    "X_test = torch.stack([rep for rep in squat_dct_dataset_test.data])\n",
    "y_test = np.array(\n",
    "    [\n",
    "        1 if label == 0 else 0\n",
    "        for label in squat_dct_dataset_test.labels_encoded\n",
    "    ]\n",
    ")\n",
    "X_test_embedded = dct_lstm_autoencoder.encoder(X_test).detach().numpy()"
   ]
  },
  {
   "cell_type": "code",
   "execution_count": 9,
   "metadata": {},
   "outputs": [
    {
     "name": "stdout",
     "output_type": "stream",
     "text": [
      "              precision    recall  f1-score   support\n",
      "\n",
      "           0       0.85      0.94      0.89        18\n",
      "           1       0.80      0.57      0.67         7\n",
      "\n",
      "    accuracy                           0.84        25\n",
      "   macro avg       0.82      0.76      0.78        25\n",
      "weighted avg       0.84      0.84      0.83        25\n",
      "\n"
     ]
    }
   ],
   "source": [
    "from sklearn.tree import DecisionTreeClassifier\n",
    "from sklearn.metrics import classification_report\n",
    "from sklearn.model_selection import train_test_split\n",
    "\n",
    "\n",
    "clf = DecisionTreeClassifier().fit(X_embedded, y)\n",
    "y_pred = clf.predict(X_test_embedded)\n",
    "\n",
    "print(classification_report(y_test, y_pred))"
   ]
  },
  {
   "cell_type": "markdown",
   "metadata": {},
   "source": [
    "## Generate CFE"
   ]
  },
  {
   "cell_type": "code",
   "execution_count": 10,
   "metadata": {},
   "outputs": [
    {
     "data": {
      "text/plain": [
       "array([1, 0, 0, 0, 0, 1, 0, 0, 0, 0, 1, 0, 0, 0, 0, 1, 0, 0, 0, 0, 1, 0,\n",
       "       0, 0, 0, 1, 0, 0, 0, 0, 1, 0, 0, 0, 0, 1, 0, 0, 0, 0, 1, 0, 0, 0,\n",
       "       0, 1, 0, 0, 0, 0, 1, 0, 0, 0, 0, 1, 0, 0, 0, 0, 1, 0, 0, 0, 0, 1,\n",
       "       0, 0, 0, 0, 1, 0, 0, 0, 0, 1, 0, 0, 0, 0, 1, 0, 0, 0, 0, 1, 0, 0,\n",
       "       0, 1, 0, 0, 1, 1, 1, 1, 1, 1, 1, 1, 1, 1, 1, 1, 1, 1, 1])"
      ]
     },
     "execution_count": 10,
     "metadata": {},
     "output_type": "execute_result"
    }
   ],
   "source": [
    "y"
   ]
  },
  {
   "cell_type": "code",
   "execution_count": 11,
   "metadata": {},
   "outputs": [],
   "source": [
    "train_df = pd.DataFrame(X_embedded)\n",
    "train_df = train_df.rename(str, axis=\"columns\")\n",
    "features = list(train_df.columns)\n",
    "\n",
    "train_df[\"label\"] = y"
   ]
  },
  {
   "cell_type": "code",
   "execution_count": 12,
   "metadata": {},
   "outputs": [
    {
     "name": "stdout",
     "output_type": "stream",
     "text": [
      "[1 0 0 0 0 1 0 0 0 0 1 0 0 0 0 1 0 0 0 0 1 0 0 0 0 1 0 0 0 0 1 0 0 0 0 1 0\n",
      " 0 0 0 1 0 0 0 0 1 0 0 0 0 1 0 0 0 0 1 0 0 0 0 1 0 0 0 0 1 0 0 0 0 1 0 0 0\n",
      " 0 1 0 0 0 0 1 0 0 0 0 1 0 0 0 1 0 0 1 1 1 1 1 1 1 1 1 1 1 1 1 1 1]\n"
     ]
    }
   ],
   "source": [
    "print(y)"
   ]
  },
  {
   "cell_type": "code",
   "execution_count": 13,
   "metadata": {},
   "outputs": [],
   "source": [
    "import dice_ml\n",
    "\n",
    "m = dice_ml.Model(model=clf, backend='sklearn')\n",
    "d = dice_ml.Data(dataframe=train_df, continuous_features=features, outcome_name='label')\n",
    "exp = dice_ml.Dice(d, m)"
   ]
  },
  {
   "cell_type": "code",
   "execution_count": 18,
   "metadata": {},
   "outputs": [
    {
     "name": "stderr",
     "output_type": "stream",
     "text": [
      "  0%|          | 0/1 [00:00<?, ?it/s]/Users/hubert/Github-Repositories/explainable-methods-in-exercise-analysis/.env/lib/python3.11/site-packages/sklearn/base.py:443: UserWarning: X has feature names, but DecisionTreeClassifier was fitted without feature names\n",
      "  warnings.warn(\n",
      "/Users/hubert/Github-Repositories/explainable-methods-in-exercise-analysis/.env/lib/python3.11/site-packages/sklearn/base.py:443: UserWarning: X has feature names, but DecisionTreeClassifier was fitted without feature names\n",
      "  warnings.warn(\n",
      "/Users/hubert/Github-Repositories/explainable-methods-in-exercise-analysis/.env/lib/python3.11/site-packages/sklearn/base.py:443: UserWarning: X has feature names, but DecisionTreeClassifier was fitted without feature names\n",
      "  warnings.warn(\n",
      "/Users/hubert/Github-Repositories/explainable-methods-in-exercise-analysis/.env/lib/python3.11/site-packages/sklearn/base.py:443: UserWarning: X has feature names, but DecisionTreeClassifier was fitted without feature names\n",
      "  warnings.warn(\n",
      "/Users/hubert/Github-Repositories/explainable-methods-in-exercise-analysis/.env/lib/python3.11/site-packages/dice_ml/explainer_interfaces/dice_random.py:165: PerformanceWarning: DataFrame is highly fragmented.  This is usually the result of calling `frame.insert` many times, which has poor performance.  Consider joining all columns at once using pd.concat(axis=1) instead. To get a de-fragmented frame, use `newframe = frame.copy()`\n",
      "  test_instance_df[self.data_interface.outcome_name] = \\\n",
      "/Users/hubert/Github-Repositories/explainable-methods-in-exercise-analysis/.env/lib/python3.11/site-packages/sklearn/base.py:443: UserWarning: X has feature names, but DecisionTreeClassifier was fitted without feature names\n",
      "  warnings.warn(\n",
      "/Users/hubert/Github-Repositories/explainable-methods-in-exercise-analysis/.env/lib/python3.11/site-packages/sklearn/base.py:443: UserWarning: X has feature names, but DecisionTreeClassifier was fitted without feature names\n",
      "  warnings.warn(\n",
      "100%|██████████| 1/1 [00:00<00:00,  1.50it/s]"
     ]
    },
    {
     "name": "stdout",
     "output_type": "stream",
     "text": [
      "Query instance (original outcome : 0)\n"
     ]
    },
    {
     "name": "stderr",
     "output_type": "stream",
     "text": [
      "\n"
     ]
    },
    {
     "data": {
      "text/html": [
       "<div>\n",
       "<style scoped>\n",
       "    .dataframe tbody tr th:only-of-type {\n",
       "        vertical-align: middle;\n",
       "    }\n",
       "\n",
       "    .dataframe tbody tr th {\n",
       "        vertical-align: top;\n",
       "    }\n",
       "\n",
       "    .dataframe thead th {\n",
       "        text-align: right;\n",
       "    }\n",
       "</style>\n",
       "<table border=\"1\" class=\"dataframe\">\n",
       "  <thead>\n",
       "    <tr style=\"text-align: right;\">\n",
       "      <th></th>\n",
       "      <th>0</th>\n",
       "      <th>1</th>\n",
       "      <th>2</th>\n",
       "      <th>3</th>\n",
       "      <th>4</th>\n",
       "      <th>5</th>\n",
       "      <th>6</th>\n",
       "      <th>7</th>\n",
       "      <th>8</th>\n",
       "      <th>9</th>\n",
       "      <th>...</th>\n",
       "      <th>247</th>\n",
       "      <th>248</th>\n",
       "      <th>249</th>\n",
       "      <th>250</th>\n",
       "      <th>251</th>\n",
       "      <th>252</th>\n",
       "      <th>253</th>\n",
       "      <th>254</th>\n",
       "      <th>255</th>\n",
       "      <th>label</th>\n",
       "    </tr>\n",
       "  </thead>\n",
       "  <tbody>\n",
       "    <tr>\n",
       "      <th>0</th>\n",
       "      <td>0.0048</td>\n",
       "      <td>0.195508</td>\n",
       "      <td>-0.022381</td>\n",
       "      <td>-0.228017</td>\n",
       "      <td>0.631739</td>\n",
       "      <td>0.632251</td>\n",
       "      <td>0.058275</td>\n",
       "      <td>0.2104</td>\n",
       "      <td>0.03141</td>\n",
       "      <td>-0.061718</td>\n",
       "      <td>...</td>\n",
       "      <td>-0.311584</td>\n",
       "      <td>0.081714</td>\n",
       "      <td>-0.395064</td>\n",
       "      <td>0.575817</td>\n",
       "      <td>0.112507</td>\n",
       "      <td>0.898687</td>\n",
       "      <td>0.12412</td>\n",
       "      <td>-0.257517</td>\n",
       "      <td>0.028833</td>\n",
       "      <td>0</td>\n",
       "    </tr>\n",
       "  </tbody>\n",
       "</table>\n",
       "<p>1 rows × 257 columns</p>\n",
       "</div>"
      ],
      "text/plain": [
       "        0         1         2         3         4         5         6       7  \\\n",
       "0  0.0048  0.195508 -0.022381 -0.228017  0.631739  0.632251  0.058275  0.2104   \n",
       "\n",
       "         8         9  ...       247       248       249       250       251  \\\n",
       "0  0.03141 -0.061718  ... -0.311584  0.081714 -0.395064  0.575817  0.112507   \n",
       "\n",
       "        252      253       254       255  label  \n",
       "0  0.898687  0.12412 -0.257517  0.028833      0  \n",
       "\n",
       "[1 rows x 257 columns]"
      ]
     },
     "metadata": {},
     "output_type": "display_data"
    },
    {
     "name": "stdout",
     "output_type": "stream",
     "text": [
      "\n",
      "Diverse Counterfactual set (new outcome: 1)\n"
     ]
    },
    {
     "data": {
      "text/html": [
       "<div>\n",
       "<style scoped>\n",
       "    .dataframe tbody tr th:only-of-type {\n",
       "        vertical-align: middle;\n",
       "    }\n",
       "\n",
       "    .dataframe tbody tr th {\n",
       "        vertical-align: top;\n",
       "    }\n",
       "\n",
       "    .dataframe thead th {\n",
       "        text-align: right;\n",
       "    }\n",
       "</style>\n",
       "<table border=\"1\" class=\"dataframe\">\n",
       "  <thead>\n",
       "    <tr style=\"text-align: right;\">\n",
       "      <th></th>\n",
       "      <th>0</th>\n",
       "      <th>1</th>\n",
       "      <th>2</th>\n",
       "      <th>3</th>\n",
       "      <th>4</th>\n",
       "      <th>5</th>\n",
       "      <th>6</th>\n",
       "      <th>7</th>\n",
       "      <th>8</th>\n",
       "      <th>9</th>\n",
       "      <th>...</th>\n",
       "      <th>247</th>\n",
       "      <th>248</th>\n",
       "      <th>249</th>\n",
       "      <th>250</th>\n",
       "      <th>251</th>\n",
       "      <th>252</th>\n",
       "      <th>253</th>\n",
       "      <th>254</th>\n",
       "      <th>255</th>\n",
       "      <th>label</th>\n",
       "    </tr>\n",
       "  </thead>\n",
       "  <tbody>\n",
       "    <tr>\n",
       "      <th>0</th>\n",
       "      <td>-</td>\n",
       "      <td>-</td>\n",
       "      <td>-</td>\n",
       "      <td>-</td>\n",
       "      <td>-</td>\n",
       "      <td>-</td>\n",
       "      <td>-</td>\n",
       "      <td>-</td>\n",
       "      <td>-</td>\n",
       "      <td>-</td>\n",
       "      <td>...</td>\n",
       "      <td>-</td>\n",
       "      <td>-</td>\n",
       "      <td>-</td>\n",
       "      <td>-</td>\n",
       "      <td>-</td>\n",
       "      <td>-</td>\n",
       "      <td>-</td>\n",
       "      <td>-</td>\n",
       "      <td>-</td>\n",
       "      <td>1.0</td>\n",
       "    </tr>\n",
       "  </tbody>\n",
       "</table>\n",
       "<p>1 rows × 257 columns</p>\n",
       "</div>"
      ],
      "text/plain": [
       "   0  1  2  3  4  5  6  7  8  9  ... 247 248 249 250 251 252 253 254 255 label\n",
       "0  -  -  -  -  -  -  -  -  -  -  ...   -   -   -   -   -   -   -   -   -   1.0\n",
       "\n",
       "[1 rows x 257 columns]"
      ]
     },
     "metadata": {},
     "output_type": "display_data"
    }
   ],
   "source": [
    "test_df = pd.DataFrame(X_embedded)\n",
    "test_df = test_df.rename(str, axis=\"columns\")\n",
    "\n",
    "explaination = exp.generate_counterfactuals(test_df.iloc[[1]], total_CFs=1, desired_class=\"opposite\")\n",
    "explaination.visualize_as_dataframe(show_only_changes=True)"
   ]
  },
  {
   "cell_type": "markdown",
   "metadata": {},
   "source": [
    "## Decode generated CFE to DCT"
   ]
  },
  {
   "cell_type": "code",
   "execution_count": 15,
   "metadata": {},
   "outputs": [],
   "source": [
    "cf_instance = torch.tensor(explaination.cf_examples_list[0].final_cfs_df.values[:, :-1]).float()\n",
    "\n",
    "decoded_cf_dct = dct_lstm_autoencoder.decoder(cf_instance)"
   ]
  },
  {
   "cell_type": "code",
   "execution_count": 16,
   "metadata": {},
   "outputs": [
    {
     "data": {
      "image/png": "[encoded data removed]",
      "text/plain": [
       "<Figure size 640x480 with 1 Axes>"
      ]
     },
     "metadata": {},
     "output_type": "display_data"
    }
   ],
   "source": [
    "plt.plot(decoded_cf_dct.detach().numpy().squeeze()[4]);"
   ]
  },
  {
   "cell_type": "code",
   "execution_count": 17,
   "metadata": {},
   "outputs": [
    {
     "data": {
      "text/plain": [
       "[<matplotlib.lines.Line2D at 0x2b3fa8e50>]"
      ]
     },
     "execution_count": 17,
     "metadata": {},
     "output_type": "execute_result"
    },
    {
     "data": {
      "image/png": "[encoded data removed]",
      "text/plain": [
       "<Figure size 640x480 with 1 Axes>"
      ]
     },
     "metadata": {},
     "output_type": "display_data"
    }
   ],
   "source": [
    "from scipy.fft import idct\n",
    "\n",
    "new_signal = decoded_cf_dct.squeeze().detach().numpy()[:, 3]\n",
    "x_dct = np.zeros(55, dtype=float)\n",
    "x_dct[:25] = new_signal\n",
    "new_signal = idct(x_dct, norm=\"ortho\")\n",
    "\n",
    "plt.plot(new_signal)"
   ]
  }
 ],
 "metadata": {
  "kernelspec": {
   "display_name": ".env",
   "language": "python",
   "name": "python3"
  },
  "language_info": {
   "codemirror_mode": {
    "name": "ipython",
    "version": 3
   },
   "file_extension": ".py",
   "mimetype": "text/x-python",
   "name": "python",
   "nbconvert_exporter": "python",
   "pygments_lexer": "ipython3",
   "version": "3.11.3"
  }
 },
 "nbformat": 4,
 "nbformat_minor": 2
}
