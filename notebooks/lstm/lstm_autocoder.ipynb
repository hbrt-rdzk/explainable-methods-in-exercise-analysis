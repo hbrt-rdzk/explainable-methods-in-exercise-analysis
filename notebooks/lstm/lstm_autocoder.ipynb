{
 "cells": [
  {
   "cell_type": "code",
   "execution_count": null,
   "metadata": {},
   "outputs": [],
   "source": [
    "import pandas as pd\n",
    "import torch\n",
    "import sys\n",
    "from torch.utils.data import DataLoader\n",
    "import matplotlib.pyplot as plt\n",
    "from torch.utils.data import random_split\n",
    "from sklearn.preprocessing import MinMaxScaler\n",
    "\n",
    "\n",
    "sys.path.append(\"../\")\n",
    "from src.architectures.lstm.classifier import LSTMClassifier\n",
    "from src.architectures.lstm.autoencoder import LSTMAutoEncoder\n",
    "from src.dataset import ExerciseDataset\n",
    "from src.trainer import Trainer"
   ]
  },
  {
   "cell_type": "code",
   "execution_count": null,
   "metadata": {},
   "outputs": [],
   "source": [
    "device = torch.device(\"cuda\" if torch.cuda.is_available() else \"cpu\")\n",
    "generator = torch.manual_seed(0)"
   ]
  },
  {
   "cell_type": "code",
   "execution_count": null,
   "metadata": {},
   "outputs": [],
   "source": [
    "squat_angles_df = pd.read_csv(\"../data/angles/squat.csv\")\n",
    "scaler = MinMaxScaler()\n",
    "columns_to_normalize = [ \"left_knee\",\t\"right_knee\",\t\"right_arm\",\t\"left_arm\",\t\"left_hip\",\t\"right_hip\"]\n",
    "squat_angles_norm_df = pd.DataFrame(scaler.fit_transform(squat_angles_df[columns_to_normalize]), columns=columns_to_normalize)\n",
    "squat_angles_df[columns_to_normalize] = squat_angles_norm_df\n",
    "\n",
    "squat_angles_df.head()"
   ]
  },
  {
   "cell_type": "code",
   "execution_count": null,
   "metadata": {},
   "outputs": [],
   "source": [
    "squat_angles_dataset = ExerciseDataset(squat_angles_df, representation=\"angles\")\n",
    "dataset_length = len(squat_angles_dataset)"
   ]
  },
  {
   "cell_type": "code",
   "execution_count": null,
   "metadata": {},
   "outputs": [],
   "source": [
    "train_squat_angles_dataset, val_squat_angles_dataset = random_split(\n",
    "    squat_angles_dataset,\n",
    "    [int(0.95 * dataset_length), dataset_length - int(0.95 * dataset_length)],\n",
    "    generator,\n",
    ")"
   ]
  },
  {
   "cell_type": "code",
   "execution_count": null,
   "metadata": {},
   "outputs": [],
   "source": [
    "batch_size = 8\n",
    "\n",
    "train_squat_angles_dl = DataLoader(\n",
    "    train_squat_angles_dataset,\n",
    "    batch_size=batch_size,\n",
    "    shuffle=True,\n",
    "    collate_fn=ExerciseDataset.resample_batch,\n",
    ")\n",
    "\n",
    "val_squat_angles_dl = DataLoader(\n",
    "    val_squat_angles_dataset,\n",
    "    batch_size=batch_size,\n",
    "    shuffle=True,\n",
    "    collate_fn=ExerciseDataset.resample_batch,\n",
    ")"
   ]
  },
  {
   "cell_type": "code",
   "execution_count": null,
   "metadata": {},
   "outputs": [],
   "source": [
    "NUM_ANGLES = 6\n",
    "\n",
    "LATENT_DIM = 512\n",
    "NUM_LAYERS = 8\n",
    "HIDDEN_SIZE = 1024"
   ]
  },
  {
   "cell_type": "code",
   "execution_count": null,
   "metadata": {},
   "outputs": [],
   "source": [
    "angles_lstm_autoencoder = LSTMAutoEncoder(NUM_ANGLES, HIDDEN_SIZE, LATENT_DIM, NUM_LAYERS)\n",
    "loss_fn = torch.nn.MSELoss(reduction=\"sum\")\n",
    "lr = 0.02\n",
    "optimizer = torch.optim.Adam(angles_lstm_autoencoder.parameters(), lr)"
   ]
  },
  {
   "cell_type": "code",
   "execution_count": null,
   "metadata": {},
   "outputs": [],
   "source": [
    "trainer = Trainer(  \n",
    "    angles_lstm_autoencoder, train_squat_angles_dl, val_squat_angles_dl, loss_fn, optimizer, device\n",
    ")\n",
    "results = trainer.train_autoencoder(num_epochs=100, weights_path=\"../models/angles_lstm_autoencoder.pt\")"
   ]
  },
  {
   "cell_type": "code",
   "execution_count": null,
   "metadata": {},
   "outputs": [],
   "source": [
    "plt.plot([result[\"train_loss\"] for result in results], label=\"train\")"
   ]
  },
  {
   "cell_type": "code",
   "execution_count": null,
   "metadata": {},
   "outputs": [],
   "source": [
    "angles_lstm_autoencoder.load_state_dict(torch.load(\"../models/angles_lstm_autoencoder.pt\", map_location=torch.device('cpu')))"
   ]
  },
  {
   "cell_type": "code",
   "execution_count": null,
   "metadata": {},
   "outputs": [],
   "source": [
    "dl_iter = iter(train_squat_angles_dl)\n",
    "X, _, _ = next(dl_iter)\n",
    "X = X[1].to(device).unsqueeze(0)\n",
    "X_hat = angles_lstm_autoencoder(X, [X.shape[1]])\n",
    "\n",
    "plt.plot(X.squeeze())\n"
   ]
  },
  {
   "cell_type": "code",
   "execution_count": null,
   "metadata": {},
   "outputs": [],
   "source": [
    "plt.plot(X_hat.detach().numpy().squeeze())"
   ]
  }
 ],
 "metadata": {
  "kernelspec": {
   "display_name": ".env",
   "language": "python",
   "name": "python3"
  },
  "language_info": {
   "codemirror_mode": {
    "name": "ipython",
    "version": 3
   },
   "file_extension": ".py",
   "mimetype": "text/x-python",
   "name": "python",
   "nbconvert_exporter": "python",
   "pygments_lexer": "ipython3",
   "version": "3.11.3"
  }
 },
 "nbformat": 4,
 "nbformat_minor": 2
}
